{
 "cells": [
  {
   "cell_type": "code",
   "execution_count": 1,
   "id": "94fe6f6a",
   "metadata": {
    "scrolled": true
   },
   "outputs": [
    {
     "name": "stderr",
     "output_type": "stream",
     "text": [
      "[nltk_data] Downloading package omw-1.4 to\n",
      "[nltk_data]     C:\\Users\\ishio\\AppData\\Roaming\\nltk_data...\n",
      "[nltk_data]   Package omw-1.4 is already up-to-date!\n"
     ]
    }
   ],
   "source": [
    "#Importing necessary libraries\n",
    "import pandas as pd\n",
    "import numpy as np\n",
    "import matplotlib.pyplot as plt\n",
    "import seaborn as sns\n",
    "\n",
    "from sklearn.preprocessing import StandardScaler, MinMaxScaler\n",
    "from sklearn.experimental import enable_iterative_imputer\n",
    "from sklearn.impute import IterativeImputer\n",
    "from sklearn.impute import KNNImputer\n",
    "from sklearn.linear_model import BayesianRidge\n",
    "from sklearn.neighbors import KNeighborsRegressor\n",
    "from sklearn.ensemble import ExtraTreesRegressor\n",
    "from sklearn.ensemble import RandomForestRegressor\n",
    "from sklearn.linear_model import LinearRegression\n",
    "from sklearn.model_selection import train_test_split\n",
    "from sklearn.metrics import mean_absolute_error\n",
    "from sklearn.metrics import mean_squared_error\n",
    "from sklearn.metrics import r2_score\n",
    "from sklearn.discriminant_analysis import LinearDiscriminantAnalysis as LDA\n",
    "from sklearn.model_selection import train_test_split\n",
    "from sklearn.linear_model import LogisticRegression\n",
    "from sklearn.impute import SimpleImputer\n",
    "\n",
    "import plotly.graph_objs as go\n",
    "from plotly.subplots import make_subplots\n",
    "import plotly.express as px\n",
    "import ipywidgets as widgets\n",
    "from IPython.display import display\n",
    "from IPython.display import HTML\n",
    "\n",
    "\n",
    "\n",
    "from scipy.stats import ttest_ind, ttest_ind_from_stats\n",
    "from scipy.special import stdtr\n",
    "\n",
    "from nltk.corpus import stopwords\n",
    "from nltk.tokenize import word_tokenize\n",
    "from nltk.stem import WordNetLemmatizer\n",
    "from nltk.stem.porter import *\n",
    "import numpy as np\n",
    "np.random.seed(2018)\n",
    "import nltk\n",
    "nltk.download('omw-1.4')\n",
    "from sklearn.feature_extraction.text import TfidfVectorizer\n",
    "\n",
    "import warnings\n",
    "warnings.filterwarnings('ignore')\n",
    "\n",
    "import matplotlib.dates as mda\n",
    "\n",
    "import string"
   ]
  },
  {
   "cell_type": "markdown",
   "id": "9eb1c06a",
   "metadata": {},
   "source": [
    "# 1. Data Cleaning"
   ]
  },
  {
   "cell_type": "code",
   "execution_count": 2,
   "id": "4a805a12",
   "metadata": {},
   "outputs": [],
   "source": [
    "# # Reading the data\n",
    "# data = pd.read_csv('data/speed_dating.csv', encoding='ISO-8859-1')\n",
    "# data.shape"
   ]
  },
  {
   "cell_type": "code",
   "execution_count": 3,
   "id": "554cd648",
   "metadata": {
    "scrolled": false
   },
   "outputs": [],
   "source": [
    "# data.head()"
   ]
  },
  {
   "cell_type": "code",
   "execution_count": 4,
   "id": "fcadc601",
   "metadata": {
    "scrolled": true
   },
   "outputs": [],
   "source": [
    "# pd.set_option('display.max_rows', None)"
   ]
  },
  {
   "cell_type": "code",
   "execution_count": 5,
   "id": "53b5b918",
   "metadata": {},
   "outputs": [],
   "source": [
    "# obj_cols = data.select_dtypes(include='object').columns\n",
    "# print(obj_cols)"
   ]
  },
  {
   "cell_type": "code",
   "execution_count": 6,
   "id": "1d44844f",
   "metadata": {},
   "outputs": [],
   "source": [
    "# #Filling field column, we have field_cd column that keeps numeric version of it.\n",
    "# #We will assign the empty ones 18 - Other and drop Field column\n",
    "\n",
    "# data['field_cd'].fillna(18, inplace=True)\n",
    "# data.drop('field', inplace=True, axis=1)\n",
    "# data['undergra'].fillna('other', inplace=True)"
   ]
  },
  {
   "cell_type": "code",
   "execution_count": 7,
   "id": "a5eb13be",
   "metadata": {},
   "outputs": [],
   "source": [
    "# def preprocess_text(text):\n",
    "#     stop_words = set(stopwords.words('english'))\n",
    "#     lemmatiser = WordNetLemmatizer()\n",
    "#     regex_rule = r'[^\\w\\s]'\n",
    "    \n",
    "    \n",
    "#     text = re.sub(regex_rule, \" \", text)\n",
    "#     tokens = word_tokenize(text)\n",
    "\n",
    "#     filtered_sentence = []\n",
    "#     for w in tokens:\n",
    "#         if w not in stop_words:\n",
    "#             filtered_sentence.append(w)\n",
    "\n",
    "#     lemmas = [lemmatiser.lemmatize(token, pos='n').lower() for token in filtered_sentence]\n",
    "#     # Join lemmatized words with a space character\n",
    "#     return \" \".join(lemmas)"
   ]
  },
  {
   "cell_type": "code",
   "execution_count": 8,
   "id": "84449b5f",
   "metadata": {},
   "outputs": [],
   "source": [
    "# preprocess_data = data['undergra'].apply(preprocess_text)"
   ]
  },
  {
   "cell_type": "code",
   "execution_count": 9,
   "id": "be79e33a",
   "metadata": {},
   "outputs": [],
   "source": [
    "# vectoriser = TfidfVectorizer(analyzer=word_tokenize)\n",
    "# data_tfidf = vectoriser.fit_transform(preprocess_data)"
   ]
  },
  {
   "cell_type": "code",
   "execution_count": 10,
   "id": "d77f7257",
   "metadata": {},
   "outputs": [],
   "source": [
    "# from sklearn.decomposition import LatentDirichletAllocation\n",
    "\n",
    "# lda_model = LatentDirichletAllocation(n_components=5,max_iter=50,doc_topic_prior=0.01,topic_word_prior=0.01)\n",
    "# lda = lda_model.fit(data_tfidf)\n",
    "# features_new = lda_model.transform(data_tfidf)"
   ]
  },
  {
   "cell_type": "code",
   "execution_count": 11,
   "id": "1597fc81",
   "metadata": {},
   "outputs": [],
   "source": [
    "# unique_values = np.unique(features_new)\n",
    "# num_unique_values = len(unique_values)\n",
    "# num_unique_values"
   ]
  },
  {
   "cell_type": "code",
   "execution_count": 12,
   "id": "3d0ec0d3",
   "metadata": {},
   "outputs": [],
   "source": [
    "# features_new = pd.DataFrame(features_new)\n",
    "# data = pd.concat([data,features_new], axis=1)\n",
    "# data.drop('undergra',axis=1, inplace=True)"
   ]
  },
  {
   "cell_type": "code",
   "execution_count": 13,
   "id": "3e78b860",
   "metadata": {},
   "outputs": [],
   "source": [
    "# #Mnsat, tuition and income columns normally numeric values, we will change these columns\n",
    "\n",
    "# data['income'] = data['income'].str.replace(',', '')\n",
    "# data['income'] = pd.to_numeric(data['income'], errors='coerce')\n",
    "# data['mn_sat'] = pd.to_numeric(data['mn_sat'], errors='coerce')\n",
    "# data['tuition'] = pd.to_numeric(data['tuition'], errors='coerce')\n",
    "# data['zipcode'] = pd.to_numeric(data['zipcode'], errors='coerce')"
   ]
  },
  {
   "cell_type": "code",
   "execution_count": 14,
   "id": "b0933077",
   "metadata": {},
   "outputs": [],
   "source": [
    "# all_na_rows = data[data.isna().all(axis=1)]\n",
    "# all_na_rows"
   ]
  },
  {
   "cell_type": "code",
   "execution_count": 15,
   "id": "9556dd2d",
   "metadata": {
    "scrolled": true
   },
   "outputs": [],
   "source": [
    "# drop_list = ['attr1_3','sinc1_3','intel1_3','fun1_3','amb1_3','shar1_3','attr7_3','sinc7_3','intel7_3','fun7_3','amb7_3','shar7_3','attr4_3','sinc4_3','intel4_3','fun4_3','amb4_3','shar4_3','attr2_3',\n",
    "#              'sinc2_3','intel2_3','fun2_3','amb2_3','shar2_3','attr3_3','sinc3_3','intel3_3','fun3_3','amb3_3','attr5_3','sinc5_3','intel5_3','fun5_3','amb5_3','attr7_2','sinc7_2','intel7_2','fun7_2',\n",
    "#              'amb7_2','shar7_2','attr1_2','sinc1_2','intel1_2','fun1_2','amb1_2','shar1_2','attr4_2','sinc4_2','intel4_2','fun4_2','amb4_2','shar4_2','attr2_2','sinc2_2','intel2_2','fun2_2','amb2_2',\n",
    "#              'shar2_2','attr3_2','sinc3_2','intel3_2','fun3_2','amb3_2','attr5_2','sinc5_2','intel5_2','fun5_2','amb5_2','attr1_s','sinc1_s','intel1_s','fun1_s','amb1_s','shar1_s',\n",
    "#              'attr3_s','sinc3_s','intel3_s','fun3_s',\n",
    "#              'amb3_s','attr4_1','sinc4_1','intel4_1','fun4_1','amb4_1','shar4_1','order','iid','id','idg','round',\n",
    "#              'position','positin1','partner','pid','career','career_c','expnum',\n",
    "#              'you_call','them_cal','date_3','numdat_3','num_in_3','from','zipcode'\n",
    "#             ]\n",
    "\n",
    "# def dropping(df,lst):\n",
    "#     for e in lst:\n",
    "#         df.drop(e, axis=1,inplace=True)\n",
    "        \n",
    "#     return df\n",
    "\n",
    "# dropping(data,drop_list)"
   ]
  },
  {
   "cell_type": "code",
   "execution_count": 16,
   "id": "bf255ed4",
   "metadata": {},
   "outputs": [],
   "source": [
    "# scaler = MinMaxScaler()\n",
    "\n",
    "# scaler_list = ['attr1_1','sinc1_1','intel1_1','fun1_1','amb1_1','shar1_1','attr2_1','sinc2_1','intel2_1','fun2_1','amb2_1','shar2_1',\n",
    "#               'attr3_1','sinc3_1','intel3_1','fun3_1','amb3_1','attr5_1','sinc5_1','intel5_1','fun5_1','amb5_1']\n",
    "\n",
    "# def scalling(lst,df):\n",
    "#     for e in lst:\n",
    "#         e_standardized = scaler.fit_transform(df[e].values.reshape(-1, 1))\n",
    "#         df[e] = e_standardized\n",
    "        \n",
    "# scalling(lst=scaler_list, df=data)     "
   ]
  },
  {
   "cell_type": "code",
   "execution_count": 17,
   "id": "d65f59ec",
   "metadata": {
    "scrolled": false
   },
   "outputs": [],
   "source": [
    "# # continuous values\n",
    "\n",
    "# continuous_df =data [['mn_sat','tuition','age','age_o','int_corr','income']]\n",
    "# continuous_df.head()\n",
    "# continuous_df.head()\n",
    "# (continuous_df.isnull().mean()*100).sort_values(ascending=False)"
   ]
  },
  {
   "cell_type": "markdown",
   "id": "3a5c0d8a",
   "metadata": {},
   "source": [
    "Since tuition and mn_sat columns have lots of missing data, we will drop them to not miss lead the model."
   ]
  },
  {
   "cell_type": "code",
   "execution_count": 18,
   "id": "8f541972",
   "metadata": {},
   "outputs": [],
   "source": [
    "# missing_values = ['tuition','mn_sat',]\n",
    "# continuous_df = dropping(continuous_df,missing_values)"
   ]
  },
  {
   "cell_type": "code",
   "execution_count": 19,
   "id": "35d2d75c",
   "metadata": {},
   "outputs": [],
   "source": [
    "# Explanation  isaida"
   ]
  },
  {
   "cell_type": "code",
   "execution_count": 20,
   "id": "8b0b7543",
   "metadata": {},
   "outputs": [],
   "source": [
    "# #n_neighbors=2\n",
    "\n",
    "# data_imputer=KNNImputer(missing_values=np.nan, n_neighbors=2, weights='uniform', metric='nan_euclidean')\n",
    "# data_clean_imputed2 = pd.DataFrame(data_imputer.fit_transform(continuous_df), columns=continuous_df.columns)"
   ]
  },
  {
   "cell_type": "code",
   "execution_count": 21,
   "id": "a71adcb9",
   "metadata": {},
   "outputs": [],
   "source": [
    "# # n_neighbors=5\n",
    "\n",
    "# data_imputer=KNNImputer(missing_values=np.nan, n_neighbors=5, weights='uniform', metric='nan_euclidean')\n",
    "\n",
    "# data_clean_imputed5 = pd.DataFrame(data_imputer.fit_transform(continuous_df), columns=continuous_df.columns)"
   ]
  },
  {
   "cell_type": "code",
   "execution_count": 22,
   "id": "d393eefc",
   "metadata": {},
   "outputs": [],
   "source": [
    "# # n_neighbors=10\n",
    "\n",
    "# data_imputer=KNNImputer(missing_values=np.nan, n_neighbors=10, weights='uniform', metric='nan_euclidean')\n",
    "\n",
    "# data_clean_imputed10 = pd.DataFrame(data_imputer.fit_transform(continuous_df), columns=continuous_df.columns)"
   ]
  },
  {
   "cell_type": "code",
   "execution_count": 23,
   "id": "53dfc6ac",
   "metadata": {},
   "outputs": [],
   "source": [
    "# # 2 Vs 5\n",
    "\n",
    "# df1 = data_clean_imputed2\n",
    "# df2 = data_clean_imputed5\n",
    "\n",
    "# results = []\n",
    "\n",
    "# for col in df1.columns:\n",
    "#     valor1 = df1[col]\n",
    "#     valor2 = df2[col]\n",
    "    \n",
    "#     t_stat, p_valor = ttest_ind(valor1, valor2)\n",
    "    \n",
    "#     results.append({\"column\": col, \"t_stat\": t_stat, \"p_valor\": p_valor})\n",
    "    \n",
    "#     for res in results:\n",
    "\n",
    "#         print(\"Column {}: t_stat = {:.2f}, p_valor = {:.3f}\".format(res[\"column\"], res[\"t_stat\"], res[\"p_valor\"]))"
   ]
  },
  {
   "cell_type": "code",
   "execution_count": 24,
   "id": "0a6674d5",
   "metadata": {},
   "outputs": [],
   "source": [
    "# #5 Vs 10\n",
    "\n",
    "# df1 = data_clean_imputed5\n",
    "# df2 = data_clean_imputed10\n",
    "\n",
    "# results = []\n",
    "\n",
    "# for col in df1.columns:\n",
    "#     valor1 = df1[col]\n",
    "#     valor2 = df2[col]\n",
    "    \n",
    "#     t_stat, p_valor = ttest_ind(valor1, valor2)\n",
    "    \n",
    "#     results.append({\"column\": col, \"t_stat\": t_stat, \"p_valor\": p_valor})\n",
    "    \n",
    "# for res in results:\n",
    "#      print(\"Column {}: t_stat = {:.2f}, p_valor = {:.3f}\".format(res[\"column\"], res[\"t_stat\"], res[\"p_valor\"]))"
   ]
  },
  {
   "cell_type": "markdown",
   "id": "d099ea02",
   "metadata": {},
   "source": [
    "An improvement of the t_stat and p_value values is noted as K increases. Therefore, I will select the final dataframe between k=5 and k=10. Initially, I could choose any of them because t_stat is low and p_value is larger than 0.05 when comparing them. But since the column that had the most imputations was income and in all cases it is the one with the highest t_stat value and lowest p_valor value, I am going to see the error of each column in detail."
   ]
  },
  {
   "cell_type": "code",
   "execution_count": 25,
   "id": "8407074c",
   "metadata": {
    "scrolled": true
   },
   "outputs": [],
   "source": [
    "# mae_age = mean_absolute_error(data_clean_imputed5['age'], data_clean_imputed10['age'])\n",
    "# r2_age = r2_score(data_clean_imputed5['age'], data_clean_imputed10['age'])\n",
    "# print(f\" MAE of age is: {mae_age:.5f}\")\n",
    "# print(f\" R2 of age is: {r2_age:.5f}\")"
   ]
  },
  {
   "cell_type": "code",
   "execution_count": 26,
   "id": "f494bcc6",
   "metadata": {
    "scrolled": true
   },
   "outputs": [],
   "source": [
    "# mae_age_o = mean_absolute_error(data_clean_imputed5['age_o'], data_clean_imputed10['age_o'])\n",
    "# r2_age_o = r2_score(data_clean_imputed5['age_o'], data_clean_imputed10['age_o'])\n",
    "# print(f\" MAE of age_o is: {mae_age:.5f}\")\n",
    "# print(f\" R2 of age_o is: {r2_age:.5f}\")"
   ]
  },
  {
   "cell_type": "code",
   "execution_count": 27,
   "id": "10faeed8",
   "metadata": {},
   "outputs": [],
   "source": [
    "# mae_int = mean_absolute_error(data_clean_imputed5['int_corr'], data_clean_imputed10['int_corr'])\n",
    "# r2_int = r2_score(data_clean_imputed5['int_corr'], data_clean_imputed10['int_corr'])\n",
    "# print(f\" MAE of int_corr is: {mae_int:.5f}\")\n",
    "# print(f\" R2 of int_corr is: {r2_int:.5f}\")"
   ]
  },
  {
   "cell_type": "code",
   "execution_count": 28,
   "id": "864d19e4",
   "metadata": {},
   "outputs": [],
   "source": [
    "# mae_inc = mean_absolute_error(data_clean_imputed5['income'], data_clean_imputed10['income'])\n",
    "# r2_inc = r2_score(data_clean_imputed5['income'], data_clean_imputed10['income'])\n",
    "# print(f\" MAE of income is: {mae_int:.5f}\")\n",
    "# print(f\" R2 of income is: {r2_int:.5f}\")"
   ]
  },
  {
   "cell_type": "markdown",
   "id": "69eb8767",
   "metadata": {},
   "source": [
    "As the r2 is very close in all cases and the mae of income is much lower than the average or standard deviation of any of the df. I am going to choose the dataframe with k=5 simply because it is faster to calculate. - isaida will check"
   ]
  },
  {
   "cell_type": "code",
   "execution_count": 29,
   "id": "b3c162c0",
   "metadata": {},
   "outputs": [],
   "source": [
    "# cont_data_cleaned = data_clean_imputed5"
   ]
  },
  {
   "cell_type": "code",
   "execution_count": 30,
   "id": "999f95de",
   "metadata": {},
   "outputs": [],
   "source": [
    "# #Categorical values\n",
    "# cont = ['age','age_o','int_corr']\n",
    "# categorical = dropping(data,cont)"
   ]
  },
  {
   "cell_type": "code",
   "execution_count": 31,
   "id": "d0c7a308",
   "metadata": {},
   "outputs": [],
   "source": [
    "# null_counts = categorical.isnull().sum()\n",
    "# null_columns = null_counts[null_counts == 0]\n",
    "# null_columns"
   ]
  },
  {
   "cell_type": "code",
   "execution_count": 32,
   "id": "7d018341",
   "metadata": {},
   "outputs": [],
   "source": [
    "# nominal = ['race_o','race','goal','date','go_out','exphappy','met','match_es','satis_2','length','numdat_2']\n",
    "# ordinal = ['pf_o_att', 'pf_o_sin',\n",
    "#        'pf_o_int', 'pf_o_fun', 'pf_o_amb', 'pf_o_sha', 'attr_o',\n",
    "#        'sinc_o', 'intel_o', 'fun_o', 'amb_o', 'shar_o', 'like_o', 'prob_o',\n",
    "#        'met_o', 'field_cd', 'imprace', 'imprelig', 'sports', 'tvsports',\n",
    "#        'exercise', 'dining', 'museums', 'art', 'hiking', 'gaming', 'clubbing',\n",
    "#        'reading', 'tv', 'theater', 'movies', 'concerts', 'music', 'shopping',\n",
    "#        'yoga', 'attr1_1', 'sinc1_1', 'intel1_1', 'fun1_1', 'amb1_1', 'shar1_1',\n",
    "#        'attr2_1', 'sinc2_1', 'intel2_1', 'fun2_1', 'amb2_1', 'shar2_1',\n",
    "#        'attr3_1', 'sinc3_1', 'fun3_1', 'intel3_1', 'amb3_1', 'attr5_1',\n",
    "#        'sinc5_1', 'intel5_1', 'fun5_1', 'amb5_1', 'attr', 'sinc',\n",
    "#        'intel', 'fun', 'amb', 'shar', 'like', 'prob']"
   ]
  },
  {
   "cell_type": "code",
   "execution_count": 33,
   "id": "d7119b2f",
   "metadata": {
    "scrolled": false
   },
   "outputs": [],
   "source": [
    "# categorical.columns"
   ]
  },
  {
   "cell_type": "code",
   "execution_count": 34,
   "id": "7e664089",
   "metadata": {},
   "outputs": [],
   "source": [
    "# nominal_columns = ['race_o','race','goal','date','go_out','exphappy','met','match_es','satis_2','length','numdat_2']\n",
    "# nominal_df = categorical[nominal_columns]\n",
    "\n",
    "# imputer = SimpleImputer(strategy='most_frequent')\n",
    "# imputed_nominal_df = pd.DataFrame(imputer.fit_transform(nominal_df), columns=nominal_columns)"
   ]
  },
  {
   "cell_type": "code",
   "execution_count": 35,
   "id": "97d25c16",
   "metadata": {},
   "outputs": [],
   "source": [
    "# imputed_nominal_df.head()"
   ]
  },
  {
   "cell_type": "code",
   "execution_count": 36,
   "id": "c80edcc6",
   "metadata": {},
   "outputs": [],
   "source": [
    "# nominal_df.describe()"
   ]
  },
  {
   "cell_type": "code",
   "execution_count": 37,
   "id": "70aefda5",
   "metadata": {
    "scrolled": true
   },
   "outputs": [],
   "source": [
    "# imputed_nominal_df.describe()"
   ]
  },
  {
   "cell_type": "markdown",
   "id": "d40ec84c",
   "metadata": {},
   "source": [
    "The SimpleImputer with \"most_frequent\" strategy replaces missing values with the most frequent value in the column. When dealing with nominal categorical data, this can be a reasonable approach since the mode (most frequent value) is well-defined and provides a meaningful way to fill in the missing values.\n",
    "\n",
    "Since the before and after dataframes are not statistically different, this suggests that the imputed values did not significantly change the distribution or summary statistics of the data."
   ]
  },
  {
   "cell_type": "code",
   "execution_count": 38,
   "id": "d82e9029",
   "metadata": {},
   "outputs": [],
   "source": [
    "# ordinal_columns = ['pf_o_att', 'pf_o_sin', 'pf_o_int', 'pf_o_fun', 'pf_o_amb', 'pf_o_sha', 'attr_o', 'sinc_o', 'intel_o', \n",
    "#                    'fun_o', 'amb_o', 'shar_o', 'like_o', 'prob_o', 'met_o', 'field_cd', 'imprace', 'imprelig', 'sports', \n",
    "#                    'tvsports', 'exercise', 'dining', 'museums', 'art', 'hiking', 'gaming', 'clubbing', 'reading', 'tv', \n",
    "#                    'theater', 'movies', 'concerts', 'music', 'shopping', 'yoga', 'attr1_1', 'sinc1_1', 'intel1_1', 'fun1_1', \n",
    "#                    'amb1_1', 'shar1_1', 'attr2_1', 'sinc2_1', 'intel2_1', 'fun2_1', 'amb2_1', 'shar2_1', 'attr3_1', 'sinc3_1', \n",
    "#                    'fun3_1', 'intel3_1', 'amb3_1', 'attr5_1', 'sinc5_1', 'intel5_1', 'fun5_1', 'amb5_1', 'attr', 'sinc', \n",
    "#                    'intel', 'fun', 'amb', 'shar', 'like', 'prob']\n",
    "\n",
    "# ordinal_df = categorical[ordinal_columns]\n"
   ]
  },
  {
   "cell_type": "code",
   "execution_count": 39,
   "id": "309eb16c",
   "metadata": {},
   "outputs": [],
   "source": [
    "# imputer = SimpleImputer(strategy='most_frequent')\n",
    "# imputed_ordinal_df = pd.DataFrame(imputer.fit_transform(ordinal_df), columns=ordinal_columns)"
   ]
  },
  {
   "cell_type": "code",
   "execution_count": 40,
   "id": "6b090290",
   "metadata": {
    "scrolled": false
   },
   "outputs": [],
   "source": [
    "# @widgets.interact(column=imputed_ordinal_df.columns)\n",
    "# def categorical_graphs(column):\n",
    "#     display(HTML(f'<h2>Distribution for {column}<h2>'))\n",
    "#     sns.histplot(data=imputed_ordinal_df, x=column)\n",
    "#     plt.show()"
   ]
  },
  {
   "cell_type": "markdown",
   "id": "a977768d",
   "metadata": {},
   "source": [
    "Our ordinal data displays a variety of distributions, including those that are normal or close to normal, skewed, and displaying regularly increasing values. \n",
    "\n",
    "To handle these different distributions, imputing with the most frequent value is a logical choice. \n",
    "\n",
    "This approach can help avoid changing the distribution for normal and skewed data. However, when dealing with data that exhibits regular increase points, it can be challenging to decide on a constant value to impute the missing values, as the increase points can vary over time. That is we will also use most frequent approach for them."
   ]
  },
  {
   "cell_type": "code",
   "execution_count": 41,
   "id": "62d49ac3",
   "metadata": {},
   "outputs": [],
   "source": [
    "# not_null_values = ['gender','condtn','wave','match','samerace','dec_o','dec']"
   ]
  },
  {
   "cell_type": "code",
   "execution_count": 42,
   "id": "7d7be58a",
   "metadata": {},
   "outputs": [],
   "source": [
    "# # Final dataframe\n",
    "# imputed_cat_df = pd.concat([imputed_ordinal_df, imputed_nominal_df], axis=1)\n",
    "# imputed_cat_df = pd.concat([imputed_cat_df, categorical[not_null_values]], axis=1)\n",
    "# imputed_df = pd.concat([imputed_cat_df,cont_data_cleaned], axis=1)\n",
    "# final_data = pd.concat([imputed_df,features_new], axis=1)\n"
   ]
  },
  {
   "cell_type": "code",
   "execution_count": 43,
   "id": "e06b2e64",
   "metadata": {},
   "outputs": [],
   "source": [
    "# final_data = final_data.rename(columns={0: 'col0', 1: 'col1', 2: 'col2', 3: 'col3', 4: 'col4'})\n",
    "# f_data=final_data.to_csv('data/fdata.csv', index=False)"
   ]
  },
  {
   "cell_type": "code",
   "execution_count": 44,
   "id": "c216384c",
   "metadata": {
    "scrolled": true
   },
   "outputs": [],
   "source": [
    "# final_data.columns"
   ]
  },
  {
   "cell_type": "markdown",
   "id": "284a33e3",
   "metadata": {},
   "source": [
    "# 2. EDA"
   ]
  },
  {
   "cell_type": "code",
   "execution_count": 45,
   "id": "a19530c3",
   "metadata": {
    "scrolled": false
   },
   "outputs": [],
   "source": [
    "# sns.histplot(data=final_data, x='match')\n",
    "# plt.xticks([0, 1], ['0', '1'])\n",
    "# final_data['match'].value_counts()\n",
    "\n",
    "# # check the graph"
   ]
  },
  {
   "cell_type": "markdown",
   "id": "e0781e36",
   "metadata": {},
   "source": [
    "In our experiance there are total 8.378 speed date happend. Unfortunatly only %16 has a positive match."
   ]
  },
  {
   "cell_type": "code",
   "execution_count": 46,
   "id": "d151c0ce",
   "metadata": {
    "scrolled": false
   },
   "outputs": [],
   "source": [
    "# correlation_matrix = final_data.corr()\n",
    "# match_correlations = correlation_matrix['match']\n",
    "# most_positively_correlated = round(match_correlations.sort_values(ascending=False), 2).head(11)[1:10]\n",
    "# most_negatively_correlated = round(match_correlations.sort_values(ascending=True),2).head(11)[1:11]\n",
    "\n",
    "# fig = go.Figure(data=[go.Table(\n",
    "#     header=dict(values=['Feature','Correlation'],\n",
    "#                 line_color='coral',\n",
    "#                 fill_color='coral',\n",
    "#                 align='left'),\n",
    "#     cells=dict(values=[most_positively_correlated.keys().tolist(), most_positively_correlated.values,\n",
    "#                        ],\n",
    "#                line_color='coral',\n",
    "#                fill_color='cornsilk',\n",
    "#                align='left'\n",
    "#                ))])\n",
    "\n",
    "# fig = fig.update_layout(\n",
    "#         title= 'Top 10 Positive Correlated Features with Match Decision')\n",
    "\n",
    "# fig.show()\n",
    "\n",
    "# fig = go.Figure(data=[go.Table(\n",
    "#     header=dict(values=['Feature','Correlation'],\n",
    "#                 line_color='darkturquoise',\n",
    "#                 fill_color='darkturquoise',\n",
    "#                 align='left'),\n",
    "#     cells=dict(values=[most_negatively_correlated.keys().tolist(), most_negatively_correlated.values,\n",
    "#                        ],\n",
    "#                line_color='darkturquoise',\n",
    "#                fill_color='aliceblue',\n",
    "#                align='left'\n",
    "#                ))])\n",
    "\n",
    "# fig = fig.update_layout(\n",
    "#         title= 'Top 10 Negative Correlated Features with Match Decision')\n",
    "\n",
    "# fig.show()"
   ]
  },
  {
   "cell_type": "markdown",
   "id": "cf50b1e0",
   "metadata": {},
   "source": [
    "We can observe the most correlated features with the match decision is the each individual decision but this is not surprising. Among the features that we can interpret, having fun that night and sharing interests are the most significant ones. Additionally, liking each other is one of the main reasons for a match decision.\n",
    "\n",
    "In terms of negative correlations with the match decision, we don't see any highly negative correlated features. However, age differences are the most important factor to consider."
   ]
  },
  {
   "cell_type": "markdown",
   "id": "d5e26e7e",
   "metadata": {},
   "source": [
    "Since the dataframe contains lots of different columns that contain different information for EDA, we will group the similar ones together and check them one by one."
   ]
  },
  {
   "cell_type": "code",
   "execution_count": 47,
   "id": "65f0b5d3",
   "metadata": {},
   "outputs": [],
   "source": [
    "# hobies = final_data[['go_out', 'sports', 'tvsports', 'exercise', 'dining', 'museums', 'art', 'hiking', 'gaming', 'clubbing', 'reading', 'tv', 'theater', 'movies', 'concerts', 'music', 'shopping', 'yoga','gender','match']]\n",
    "# final_data['age_dff'] = final_data['age'] - final_data['age_o']\n",
    "# race_rel = final_data[['samerace','race_o','race','imprace', 'imprelig','match','gender']]\n",
    "# partner_rate = final_data[['dec_o', 'attr_o', 'sinc_o', 'intel_o', 'fun_o', 'amb_o', 'shar_o', 'like_o', 'prob_o', 'met_o','match','gender']]\n",
    "# partner_preferences = final_data[['pf_o_att', 'pf_o_sin', 'pf_o_int', 'pf_o_fun', 'pf_o_amb', 'pf_o_sha','match','gender']]\n",
    "# edu_car = final_data[['field_cd','gender','match']]\n",
    "# history = final_data[['goal','date','go_out','exphappy','match','gender']]\n",
    "# preferences = final_data[['attr1_1', 'sinc1_1', 'intel1_1', 'fun1_1', 'amb1_1', 'shar1_1','match','gender']]\n",
    "# opposite_preferences = final_data[['attr2_1', 'sinc2_1', 'intel2_1', 'fun2_1', 'amb2_1', 'shar2_1','match','gender']]\n",
    "# your_rate_general = final_data[['attr3_1', 'sinc3_1', 'fun3_1', 'intel3_1', 'amb3_1','match','gender']]\n",
    "# other_rate_your_idea = final_data[['attr5_1', 'sinc5_1', 'intel5_1', 'fun5_1', 'amb5_1','match','gender']]\n",
    "# your_rate_partner = final_data[['attr', 'sinc', 'intel', 'fun', 'amb', 'shar','like', 'prob', 'met','match','gender']]"
   ]
  },
  {
   "cell_type": "code",
   "execution_count": 48,
   "id": "eb2c31c2",
   "metadata": {
    "scrolled": false
   },
   "outputs": [],
   "source": [
    "# gender_df = final_data.groupby('gender').agg({'match': ['count', 'sum']})\n",
    "# gender_df.columns = ['total_date','positive_match']\n",
    "# gender_df = gender_df.reset_index()\n",
    "\n",
    "# figsize=(10,6)\n",
    "# fig, ax = plt.subplots()\n",
    "# gender_df.plot.bar(y=['total_date', 'positive_match'], rot=50, ax=ax)\n",
    "# ax.set_xlabel('Gender',fontweight='bold')\n",
    "# ax.set_ylabel('Count',fontweight='bold')\n",
    "# ax.legend(['Total Date', 'Positive Matches'])\n",
    "# ax.set_xticklabels(['Female', 'Men'], fontweight='bold')\n",
    "# sns.set(font_scale=1)\n",
    "# fig.set_size_inches(12, 5)\n",
    "# plt.title('Total Date and Positive Matches per Gender')\n",
    "# plt.show();\n",
    "\n",
    "\n",
    "\n",
    "# # Just show the match without gender"
   ]
  },
  {
   "cell_type": "code",
   "execution_count": 49,
   "id": "cb8aaa52",
   "metadata": {
    "scrolled": false
   },
   "outputs": [],
   "source": [
    "# gender_df['gender'] = gender_df['gender'].replace({0: 'female', 1: 'male'})\n",
    "# gender_df['%'] = round((gender_df['positive_match'] / gender_df['total_date']) * 100,2)\n",
    "# gender_df.sort_values(by='total_date',ascending=False)"
   ]
  },
  {
   "cell_type": "markdown",
   "id": "d4e643d6",
   "metadata": {},
   "source": [
    "The gender distribution in the dataset is fairly balanced. However, it is worth noting that there are slightly more male participants, with only a difference of 100 participants."
   ]
  },
  {
   "cell_type": "code",
   "execution_count": 50,
   "id": "69eb8502",
   "metadata": {},
   "outputs": [],
   "source": [
    "# race_rel['race_explanation'] = race_rel['race'].map({1:'Black/African American',2:'European/Caucasian-American',3:'Latino/Hispanic American',4:'Asian/Pacific Islander/Asian-American',5:'Native American',6:'Other'})\n",
    "# race_rel['race_o_explanation'] = race_rel['race_o'].map({1:'Black/African American',2:'European/Caucasian-American',3:'Latino/Hispanic American',4:'Asian/Pacific Islander/Asian-American',5:'Native American',6:'Other'})\n",
    "# race_exp_match = race_rel.groupby('race_explanation').agg({'match':['count','sum']})\n",
    "# race_exp_match.columns = ['total_date','positive_match']\n",
    "# race_exp_match = race_exp_match.reset_index()\n",
    "# race_exp_match['%'] = round((race_exp_match['positive_match'] / race_exp_match['total_date']) * 100,2)\n",
    "# race_exp_match.sort_values(by='total_date', ascending=False)\n",
    "# race_exp_match = race_exp_match.sort_values(by='total_date', ascending=False)\n",
    "# race_exp_match"
   ]
  },
  {
   "cell_type": "code",
   "execution_count": 51,
   "id": "7df3b929",
   "metadata": {},
   "outputs": [],
   "source": [
    "# plt.figure(figsize=(15,6))\n",
    "\n",
    "# race_exp_match['race_explanation'] = pd.Categorical(race_exp_match['race_explanation'])\n",
    "\n",
    "# x_total = race_exp_match['race_explanation'].cat.codes - 0.2\n",
    "# x_positive = race_exp_match['race_explanation'].cat.codes + 0.2\n",
    "\n",
    "# plt.bar(x_total, race_exp_match['total_date'], width=0.4, label='total_date')\n",
    "# plt.bar(x_positive, race_exp_match['positive_match'], width=0.4, label='positive_match')\n",
    "\n",
    "# plt.xticks(ticks=race_exp_match['race_explanation'].cat.codes, labels=race_exp_match['race_explanation'], rotation=80)\n",
    "# plt.xlabel('Race')\n",
    "# plt.ylabel('Count')\n",
    "\n",
    "# plt.legend()\n",
    "# plt.show()"
   ]
  },
  {
   "cell_type": "markdown",
   "id": "87ae2c7d",
   "metadata": {},
   "source": [
    "- Most of the participants in this experiment are European. \n",
    "- The group with the highest positive match percentage is Black/African American at 20%, but the total number of participants in this group is too low to generate a reliable statistic. \n",
    "- For Asian/Pacific Islander/Asian-American participants, even though they are the second biggest group, their positive match percentage is lower than other groups."
   ]
  },
  {
   "cell_type": "code",
   "execution_count": 52,
   "id": "5fda07d7",
   "metadata": {
    "scrolled": false
   },
   "outputs": [],
   "source": [
    "# for race in race_rel['race'].unique():\n",
    "#     race_df = final_data[final_data['race'] == race]\n",
    "#     race_corr = round(race_df.corr()['match'].sort_values(ascending=False)[1:6],2)\n",
    "#     race_explanation = race_rel.loc[race_rel['race'] == race, 'race_explanation'].iloc[0]\n",
    "#     print(f\"Top 5 Correlations for {race_explanation}:\")\n",
    "#     print(race_corr)\n",
    "#     print()"
   ]
  },
  {
   "cell_type": "markdown",
   "id": "216a34c7",
   "metadata": {},
   "source": [
    "1. Among Asian/Pacific Islander/Asian-American and Black/African American individuals, the ratings provided by other people appear to be the most correlated features.\n",
    "\n",
    "2. It appears that among European/Caucasian-American individuals, liking each other is the most correlated feature.\n",
    "\n",
    "3. It seems that among Latino/Hispanic American individuals, the ratings they provide for other people are the most correlated features."
   ]
  },
  {
   "cell_type": "code",
   "execution_count": 53,
   "id": "40346213",
   "metadata": {
    "scrolled": false
   },
   "outputs": [],
   "source": [
    "# race_rel['gender'] = race_rel['gender'].replace({0: 'Female', 1: 'Male'})\n",
    "# plt.figure(figsize=(20,6))\n",
    "\n",
    "# # Create a bar plot with mean values\n",
    "# g = sns.catplot(x=\"race_explanation\", y=\"imprace\", hue=\"gender\", kind=\"bar\", data=race_rel, height=6, aspect=2)\n",
    "\n",
    "# # Create a box plot with outliers\n",
    "# sns.boxplot(x=\"race_explanation\", y=\"imprace\", data=race_rel, dodge=False, color=\"white\", showfliers=True, ax=g.ax)\n",
    "\n",
    "# g.set_xticklabels(rotation=45)\n",
    "# plt.xlabel('Race')\n",
    "# plt.ylabel('Importance of Race')\n",
    "# plt.title('Importance of Rance Based On Race and Gender')\n",
    "\n",
    "# plt.show()\n",
    "\n",
    "# # Check match perception and behavior"
   ]
  },
  {
   "cell_type": "markdown",
   "id": "dfae3a5e",
   "metadata": {},
   "source": [
    "1. On average, the highest importance to the race coming from European - American people.\n",
    "\n",
    "2. Race is more important for Female"
   ]
  },
  {
   "cell_type": "code",
   "execution_count": 54,
   "id": "230f9507",
   "metadata": {
    "scrolled": false
   },
   "outputs": [],
   "source": [
    "# plt.figure(figsize=(20,6))\n",
    "\n",
    "# # Create a bar plot with mean values\n",
    "# g = sns.catplot(x=\"race_explanation\", y=\"imprelig\", hue=\"gender\", kind=\"bar\", data=race_rel, height=6, aspect=2)\n",
    "\n",
    "# # Create a box plot with outliers\n",
    "# sns.boxplot(x=\"race_explanation\", y=\"imprelig\", data=race_rel, dodge=False, color=\"white\", showfliers=True, ax=g.ax)\n",
    "\n",
    "# g.set_xticklabels(rotation=45)\n",
    "# plt.xlabel('Race')\n",
    "# plt.ylabel('Importance of Religion')\n",
    "# plt.title('Importance of Religion Based On Race and Gender')\n",
    "# plt.show()\n"
   ]
  },
  {
   "cell_type": "markdown",
   "id": "b09fe21d",
   "metadata": {},
   "source": [
    "1. Religion is more important to Female"
   ]
  },
  {
   "cell_type": "code",
   "execution_count": 55,
   "id": "a55aae2a",
   "metadata": {},
   "outputs": [],
   "source": [
    "# edu_car['field'] = edu_car['field_cd'].map({1:'Law',2:'Math',3:'Social Science, Psychologist',4: 'Medical Science, Pharmaceuticals, and Bio Tech',\n",
    "# 5:'Engineering',6:'English/Creative Writing/ Journalism',7:'History/Religion/Philosophy',8:'Business/Econ/Finance',9:'Education, Academia', \n",
    "# 10:'Biological Sciences/Chemistry/Physics',11:'Social Work',12:'Undergrad/undecided',13:'Political Science/International Affairs',\n",
    "# 14:'Film',15:'Fine Arts/Arts Administration',16:'Languages',17:'Architecture',18:'Other'})"
   ]
  },
  {
   "cell_type": "code",
   "execution_count": 56,
   "id": "ad4a4e64",
   "metadata": {
    "scrolled": false
   },
   "outputs": [],
   "source": [
    "# edu_car_match = edu_car.groupby('field').agg({'match':['count','sum']})\n",
    "# edu_car_match.columns = ['total_date','positive_match']\n",
    "# edu_car_match = edu_car_match.reset_index()\n",
    "# edu_car_match['%'] = round((edu_car_match['positive_match'] / edu_car_match['total_date']) * 100,2)\n",
    "# edu_car_match.sort_values(by='total_date', ascending=False)"
   ]
  },
  {
   "cell_type": "code",
   "execution_count": 57,
   "id": "86e9ebb3",
   "metadata": {},
   "outputs": [],
   "source": [
    "# age_df = final_data.groupby('age').agg({'match': ['count', 'sum']})\n",
    "# age_df.columns = ['total_match','positive_match']\n",
    "# age_df = age_df.reset_index()\n",
    "# age_df['age_group'] = pd.cut(age_df['age'], bins=np.arange(18, 44, 5), right=False)\n",
    "\n",
    "# age_group_df = age_df.groupby('age_group').sum()\n",
    "\n",
    "# fig, ax = plt.subplots()\n",
    "# age_group_df.plot.bar(y=['total_match', 'positive_match'], rot=50, ax=ax)\n",
    "# ax.set_xlabel('Age group',fontweight='bold')\n",
    "# ax.set_ylabel('Count',fontweight='bold')\n",
    "# ax.legend(['Total matches', 'Positive matches'])\n",
    "# ax.set_xticklabels(ax.get_xticklabels(), fontweight='bold')\n",
    "# sns.set(font_scale=1)\n",
    "\n",
    "# # Adjust layout\n",
    "# fig.set_size_inches(8, 5)\n",
    "# plt.tight_layout()\n",
    "# plt.show();"
   ]
  },
  {
   "cell_type": "code",
   "execution_count": 58,
   "id": "20c5420b",
   "metadata": {
    "scrolled": true
   },
   "outputs": [],
   "source": [
    "# age_group_df['%'] = (age_group_df['positive_match'] / age_group_df['total_match']) * 100\n",
    "# age_group_df"
   ]
  },
  {
   "cell_type": "code",
   "execution_count": 59,
   "id": "c9548ef8",
   "metadata": {
    "scrolled": true
   },
   "outputs": [],
   "source": [
    "# final_data['age_diff'] = round(abs(final_data['age'] - final_data['age_o']),0)\n",
    "# age_diff_df = final_data.groupby('age_diff').agg({'match': ['count', 'sum']})\n",
    "# age_diff_df.columns = ['total_match','positive_match']\n",
    "# age_diff_df = age_diff_df.reset_index()\n",
    "# age_diff_df['age_differences'] = pd.cut(age_diff_df['age_diff'], bins=np.arange(0, 32, 5), right=False)\n",
    "\n",
    "# age_diff_df = age_diff_df.groupby('age_differences').agg({'total_match':'sum','positive_match':'sum'})\n",
    "# age_diff_df = age_diff_df.reset_index()\n",
    "# age_diff_df['%'] = round((age_diff_df['positive_match'] / age_diff_df['total_match']) * 100,2)\n",
    "\n",
    "# age_diff_df"
   ]
  },
  {
   "cell_type": "markdown",
   "id": "a800c59d",
   "metadata": {},
   "source": [
    "1. Most of the people age range from 18 to 33. For young people, the % is higher.\n",
    "2. When the age differences increase, positive match % is decreasing"
   ]
  },
  {
   "cell_type": "code",
   "execution_count": 60,
   "id": "6f19e236",
   "metadata": {},
   "outputs": [],
   "source": [
    "# history['goal_exp'] = history['goal'].map({1:'Seemed like a fun night out',2:'To meet new people',3:'To get a date',4:'Looking for a serious relationship',\n",
    "#                                           5:'To say I did it',6:'Other'})\n",
    "# history['date_exp'] = history['date'].map({1:'Several times a week',2:'Twice a week',3:'Once a week',4:'Twice a month',5:'Once a month',6:'Several times a year',7:'Almost never'})\n",
    "# history['go_out_exp'] = history['go_out'].map({1:'Several times a week',2:'Twice a week',3:'Once a week',4:'Twice a month',5:'Once a month',6:'Several times a year',7:'Almost never'})\n",
    "\n",
    "\n",
    "# goal_df = history.groupby('goal_exp').agg({'match': ['count', 'sum']})\n",
    "# goal_df.columns = ['total_date','positive_match']\n",
    "# goal_df = goal_df.reset_index()\n",
    "# goal_df['%'] = round((goal_df['positive_match'] / goal_df['total_date'] * 100),2)\n",
    "\n",
    "# date_exp = history.groupby('date_exp').agg({'match': ['count', 'sum']})\n",
    "# date_exp.columns = ['total_date','positive_match']\n",
    "# date_exp = date_exp.reset_index()\n",
    "# date_exp['%'] = round((date_exp['positive_match'] / date_exp['total_date'] * 100),2)\n",
    "\n",
    "# go_out_exp = history.groupby('go_out_exp').agg({'match': ['count', 'sum']})\n",
    "# go_out_exp.columns = ['total_date','positive_match']\n",
    "# go_out_exp = go_out_exp.reset_index()\n",
    "# go_out_exp['%'] = round((go_out_exp['positive_match'] / go_out_exp['total_date'] * 100),2)"
   ]
  },
  {
   "cell_type": "code",
   "execution_count": 61,
   "id": "d2d32811",
   "metadata": {
    "scrolled": false
   },
   "outputs": [],
   "source": [
    "# figsize=(10,8)\n",
    "# fig, ax = plt.subplots()\n",
    "# goal_df.plot.bar(x='goal_exp', y=['total_date', 'positive_match'], rot=90, ax=ax)\n",
    "# ax.set_xlabel('Goal',fontweight='bold')\n",
    "# ax.set_ylabel('Count',fontweight='bold')\n",
    "# ax.legend(['Total date', 'Positive matches'])\n",
    "# ax.set_xticklabels(goal_df['goal_exp'], fontsize=10)\n",
    "# plt.show();"
   ]
  },
  {
   "cell_type": "code",
   "execution_count": 62,
   "id": "701fc819",
   "metadata": {},
   "outputs": [],
   "source": [
    "# goal_df.sort_values(by='total_date',ascending=False)"
   ]
  },
  {
   "cell_type": "code",
   "execution_count": 63,
   "id": "7a9ba9a9",
   "metadata": {
    "scrolled": false
   },
   "outputs": [],
   "source": [
    "# figsize=(10,6)\n",
    "# fig, ax = plt.subplots()\n",
    "# date_exp.plot.bar(x='date_exp', y=['total_date', 'positive_match'], rot=90, ax=ax)\n",
    "# ax.set_xlabel('Date Exp',fontweight='bold')\n",
    "# ax.set_ylabel('Count',fontweight='bold')\n",
    "# ax.legend(['Total date', 'Positive matches'])\n",
    "# ax.set_xticklabels(date_exp['date_exp'], fontsize=10)\n",
    "# plt.show();"
   ]
  },
  {
   "cell_type": "code",
   "execution_count": 64,
   "id": "e1950569",
   "metadata": {},
   "outputs": [],
   "source": [
    "# date_exp.sort_values(by='total_date',ascending=False)"
   ]
  },
  {
   "cell_type": "code",
   "execution_count": 65,
   "id": "47b74ad5",
   "metadata": {},
   "outputs": [],
   "source": [
    "# figsize=(10,6)\n",
    "# fig, ax = plt.subplots()\n",
    "# go_out_exp.plot.bar(x='go_out_exp', y=['total_date', 'positive_match'], rot=90, ax=ax)\n",
    "# ax.set_xlabel('Go Out Exp',fontweight='bold')\n",
    "# ax.set_ylabel('Count',fontweight='bold')\n",
    "# ax.legend(['Total date', 'Positive matches'])\n",
    "# ax.set_xticklabels(go_out_exp['go_out_exp'], fontsize=10)\n",
    "# plt.show();"
   ]
  },
  {
   "cell_type": "code",
   "execution_count": 66,
   "id": "82593fbc",
   "metadata": {
    "scrolled": false
   },
   "outputs": [],
   "source": [
    "# go_out_exp.sort_values(by='total_date',ascending=False)"
   ]
  },
  {
   "cell_type": "markdown",
   "id": "b882fb47",
   "metadata": {},
   "source": [
    "People who go out or date several times a week, twice a week have higher positive match %."
   ]
  },
  {
   "cell_type": "markdown",
   "id": "4ac6d694",
   "metadata": {},
   "source": [
    "### Hobbies"
   ]
  },
  {
   "cell_type": "markdown",
   "id": "73f6b181",
   "metadata": {},
   "source": [
    "Before starting the activities, the participants were asked if they had any hobbies. They were given 18 options to answer."
   ]
  },
  {
   "cell_type": "code",
   "execution_count": 67,
   "id": "47b0a3a8",
   "metadata": {
    "scrolled": true
   },
   "outputs": [],
   "source": [
    "# hobies.corr()\n",
    "\n",
    "# # There will be heatmap"
   ]
  },
  {
   "cell_type": "code",
   "execution_count": 68,
   "id": "c68230fd",
   "metadata": {
    "scrolled": true
   },
   "outputs": [],
   "source": [
    "# hobies_by_gender = hobies.groupby('gender')[hobies.columns[:-2]].mean().T\n",
    "# hobies_by_gender.rename(columns={1:'Male', 0:'Female'}, inplace=True)\n",
    "# hobies_by_gender = hobies_by_gender.reset_index()\n",
    "# hobies_by_gender = hobies_by_gender.rename_axis('index', axis='columns')\n",
    "# hobies_by_gender = hobies_by_gender.rename(columns={'index': 'hobbie'})"
   ]
  },
  {
   "cell_type": "code",
   "execution_count": 69,
   "id": "8ffbeab5",
   "metadata": {
    "scrolled": false
   },
   "outputs": [],
   "source": [
    "# import plotly.graph_objects as go\n",
    "\n",
    "# fig = go.Figure()\n",
    "\n",
    "# categories = hobies_by_gender['hobbie']\n",
    "# values_male = hobies_by_gender['Male']\n",
    "# values_female = hobies_by_gender['Female']\n",
    "\n",
    "# fig.add_trace(go.Scatterpolar(\n",
    "#       r=values_male,\n",
    "#       theta=categories,\n",
    "#       fill='toself',\n",
    "#       name='Male Participants',\n",
    "#       line_color='cyan'\n",
    "# ))\n",
    "\n",
    "# fig.add_trace(go.Scatterpolar(\n",
    "#       r=values_female,\n",
    "#       theta=categories,\n",
    "#       fill='toself',\n",
    "#       name='Female Participants',\n",
    "#       line_color='pink'\n",
    "# ))\n",
    "\n",
    "# fig.update_layout(\n",
    "#   polar=dict(\n",
    "#     radialaxis=dict(\n",
    "#       visible=True,\n",
    "#       range=[0, 10]\n",
    "#     )),\n",
    "#   showlegend=True\n",
    "# )\n",
    "\n",
    "# fig.update_layout(\n",
    "#     title={\n",
    "#         'text': \"Men and Women interest per activity (1-10)\",\n",
    "#         'y':0.95,\n",
    "#         'x':0.5,\n",
    "#         'xanchor': 'center',\n",
    "#         'yanchor': 'top'}\n",
    "# )\n",
    "\n",
    "# fig.show()"
   ]
  },
  {
   "cell_type": "markdown",
   "id": "8f5991c9",
   "metadata": {},
   "source": [
    "As we can see there are differences in hobbies by gender:\n",
    "\n",
    "- Women prefer dining, museums, art, tv, theater, shopping and yoga.\n",
    "- While men prefer sports, tv sports and gaming.\n",
    "- Both genres have similar tastes in hiking, exercise, reading, clubbing, movies, music and going out."
   ]
  },
  {
   "cell_type": "code",
   "execution_count": 70,
   "id": "cdc908ee",
   "metadata": {},
   "outputs": [],
   "source": [
    "#Attributes & Preferences"
   ]
  },
  {
   "cell_type": "code",
   "execution_count": 71,
   "id": "30968539",
   "metadata": {},
   "outputs": [],
   "source": [
    "# df_gender_m = preferences.loc[preferences['gender'] == 1].groupby('match').mean()\n",
    "# df_gender_m = df_gender_m.rename(columns={'attr1_1': 'Attraction','sinc1_1': 'Sincerity',\n",
    "# 'intel1_1': 'Intelligence', 'fun1_1': 'Fun', 'amb1_1': 'Ambition','shar1_1': 'Shared interests'\n",
    "# })\n",
    "# df_gender_m.drop(['gender'],axis=1, inplace=True)\n",
    "# df_gender_m = df_gender_m.rename(index={0: 'No match',1: 'Match'})\n",
    "# print(\"Preferences by men.\")\n",
    "# df_gender_m"
   ]
  },
  {
   "cell_type": "code",
   "execution_count": 72,
   "id": "2c862f5b",
   "metadata": {},
   "outputs": [],
   "source": [
    "# df_gender_f = preferences.loc[preferences['gender'] == 0].groupby('match').mean()\n",
    "# df_gender_f = df_gender_f.rename(columns={'attr1_1': 'Attraction','sinc1_1': 'Sincerity',\n",
    "# 'intel1_1': 'Intelligence', 'fun1_1': 'Fun', 'amb1_1': 'Ambition','shar1_1': 'Shared interests'\n",
    "# })\n",
    "# df_gender_f.drop(['gender'],axis=1, inplace=True)\n",
    "# df_gender_f = df_gender_f.rename(index={0: 'No match',1: 'Match'})\n",
    "# print(\"Preferences by Woman.\")\n",
    "# df_gender_f"
   ]
  },
  {
   "cell_type": "code",
   "execution_count": 73,
   "id": "6bc49663",
   "metadata": {
    "scrolled": false
   },
   "outputs": [],
   "source": [
    "# df_concat = pd.concat([df_gender_f, df_gender_m], keys=['female', 'male'])\n",
    "# df_plot = df_concat.loc[(['female', 'male'], 'Match'), :]\n",
    "# df_plot=df_plot.T\n",
    "# print(df_plot)\n",
    "# df_plot.plot(kind='bar', color=['#ff0080','#00aae4'])\n",
    "# ax.set_xlabel('Attributes')\n",
    "# ax.set_ylabel('Proportion (%)')\n",
    "# plt.title('Proportion of matched attributes by gender')\n",
    "# plt.legend(loc='upper right', bbox_to_anchor=(1.0, 1.5), borderaxespad=2)\n",
    "# plt.legend(labels=['Females', 'Males'])\n",
    "# plt.show()"
   ]
  },
  {
   "cell_type": "code",
   "execution_count": 74,
   "id": "e7fe4f2a",
   "metadata": {},
   "outputs": [],
   "source": [
    "# Will have another table for the whole data"
   ]
  },
  {
   "cell_type": "code",
   "execution_count": 75,
   "id": "eaa62ce2",
   "metadata": {},
   "outputs": [],
   "source": [
    "# att_g = opposite_preferences.loc[opposite_preferences['gender'] == 1].groupby('match').mean()\n",
    "# att_g = att_g.rename(columns={'attr2_1': 'Attraction','sinc2_1': 'Sincerity',\n",
    "# 'intel2_1': 'Intelligence', 'fun2_1': 'Fun', 'amb2_1': 'Ambition','shar2_1': 'Shared interests'\n",
    "# })\n",
    "# att_g.drop(['gender'],axis=1, inplace=True)\n",
    "# att_g= att_g.rename(index={0: 'No_match',1: 'Match'})\n",
    "# print(\"Preferences that men think that woman have\")\n",
    "# att_g"
   ]
  },
  {
   "cell_type": "code",
   "execution_count": 76,
   "id": "b8d50417",
   "metadata": {},
   "outputs": [],
   "source": [
    "# # Differences\n",
    "# diff_1 = att_g.loc['Match'] - df_gender_f.loc['Match']\n",
    "# diff_2 = att_g.loc['No_match'] - df_gender_f.loc['Match']\n",
    "\n",
    "# # Figure and subplots\n",
    "\n",
    "# fig, axs = plt.subplots(1, 2, figsize=(10, 5))\n",
    "# #fig, (ax1, ax2) = plt.subplots(1, 2, figsize=(12, 6))\n",
    "\n",
    "# # Subplot 1\n",
    "# axs[0].bar(diff_1.index, diff_1, color=['#ff0080' if x < 0 else '#00aae4' for x in diff_1])\n",
    "# axs[0].set_title('Differences between Men & Women that matched')\n",
    "# axs[0].tick_params( labelrotation=45)\n",
    "\n",
    "# # Subplot 2\n",
    "# axs[1].bar(diff_2.index, diff_2, color=['#ff0080' if x < 0 else '#00aae4' for x in diff_2])\n",
    "# axs[1].set_title('Differences between Men that did not match & Women that matched')\n",
    "# axs[1].tick_params( labelrotation=45)\n",
    "# # # Bar plot 1\n",
    "# # ax1.bar(diff1.index, diff1.values)\n",
    "# # ax1.set(title='Differences in attribute means (Matched)', ylabel='Difference')\n",
    "# # ax1.tick_params(axis='x', labelrotation=45)\n",
    "\n",
    "# # # Bar plot 2\n",
    "# # ax2.bar(diff2.index, diff2.values)\n",
    "# # ax2.set(title='Differences in attribute means (Not matched)', ylabel='Difference')\n",
    "# # ax2.tick_params(axis='x', labelrotation=45)\n",
    "\n",
    "# # Adjust layout\n",
    "# fig.tight_layout()\n",
    "# plt.show()\n",
    "\n",
    "\n",
    "\n",
    "\n",
    "# # Keep it in the notebook but not in the presentation"
   ]
  },
  {
   "cell_type": "code",
   "execution_count": 77,
   "id": "e299acb9",
   "metadata": {},
   "outputs": [],
   "source": [
    "# att_f = opposite_preferences.loc[opposite_preferences['gender'] == 0].groupby('match').mean()\n",
    "# att_f = att_f.rename(columns={'attr2_1': 'Attraction','sinc2_1': 'Sincerity',\n",
    "# 'intel2_1': 'Intelligence', 'fun2_1': 'Fun', 'amb2_1': 'Ambition','shar2_1': 'Shared interests'\n",
    "# })\n",
    "# att_f.drop(['gender'],axis=1, inplace=True)\n",
    "# att_f= att_f.rename(index={0: 'No_match',1: 'Match'})\n",
    "# print(\"Preferences that womem think that men have\")\n",
    "# att_f"
   ]
  },
  {
   "cell_type": "code",
   "execution_count": 78,
   "id": "588aff8b",
   "metadata": {},
   "outputs": [],
   "source": [
    "# # Differences\n",
    "# diff_1 = att_f.loc['Match'] - df_gender_m.loc['Match']\n",
    "# diff_2 = att_f.loc['No_match'] - df_gender_m.loc['Match']\n",
    "\n",
    "# # Figure and subplots\n",
    "\n",
    "# fig, axs = plt.subplots(1, 2, figsize=(10, 5))\n",
    "# #fig, (ax1, ax2) = plt.subplots(1, 2, figsize=(12, 6))\n",
    "\n",
    "# # Subplot 1\n",
    "# axs[0].bar(diff_1.index, diff_1, color=['#ff0080' if x > 0 else '#00aae4' for x in diff_1])\n",
    "# axs[0].set_title('Differences between Women & Men that matched')\n",
    "# axs[0].tick_params( labelrotation=45)\n",
    "\n",
    "# # Subplot 2\n",
    "# axs[1].bar(diff_2.index, diff_2, color=['#ff0080' if x > 0 else '#00aae4' for x in diff_2])\n",
    "# axs[1].set_title('Differences between Women that did not match & Men that matched')\n",
    "# axs[1].tick_params( labelrotation=45)\n",
    "\n",
    "\n",
    "# # Adjust layout\n",
    "# fig.tight_layout()\n",
    "# plt.show()"
   ]
  },
  {
   "cell_type": "code",
   "execution_count": 79,
   "id": "f61e700d",
   "metadata": {},
   "outputs": [],
   "source": [
    "# patt_m = your_rate_general.loc[your_rate_general['gender'] == 1].groupby('match').mean()\n",
    "# patt_m = patt_m.rename(columns={'attr3_1': 'Attraction','sinc3_1': 'Sincerity',\n",
    "# 'intel3_1': 'Intelligence', 'fun3_1': 'Fun', 'amb3_1': 'Ambition','shar3_1': 'Shared interests'\n",
    "# })\n",
    "# patt_m.drop(['gender'],axis=1, inplace=True)\n",
    "# patt_m= patt_m.rename(index={0: 'No_match',1: 'Match'})\n",
    "# print(\"How men see their own attributes\")\n",
    "# patt_m"
   ]
  },
  {
   "cell_type": "code",
   "execution_count": 80,
   "id": "1f7603ca",
   "metadata": {},
   "outputs": [],
   "source": [
    "# diff = patt_m.diff().iloc[1]\n",
    "\n",
    "# # Create bar plot\n",
    "# plt.bar(diff.index, diff, color=['r' if x < 0 else 'b' for x in diff])\n",
    "\n",
    "# # Add labels and title\n",
    "# plt.xlabel('Attributes')\n",
    "# plt.ylabel('Difference')\n",
    "# plt.title('Difference in how men who match / not match see their own attributes')\n",
    "\n",
    "# # Show plot\n",
    "# plt.show()\n",
    "\n",
    "\n",
    "\n",
    "# # How man difference between match and no match man, stack bar plot"
   ]
  },
  {
   "cell_type": "markdown",
   "id": "404ffc66",
   "metadata": {},
   "source": [
    "In general, men rate themselves higher on their attributes than that how they rate women, and men who make match rate themselves higher than those who do not."
   ]
  },
  {
   "cell_type": "code",
   "execution_count": 81,
   "id": "326102a6",
   "metadata": {},
   "outputs": [],
   "source": [
    "# patt_f = your_rate_general.loc[your_rate_general['gender'] == 0].groupby('match').mean()\n",
    "# patt_f = patt_f.rename(columns={'attr3_1': 'Attraction','sinc3_1': 'Sincerity',\n",
    "# 'intel3_1': 'Intelligence', 'fun3_1': 'Fun', 'amb3_1': 'Ambition','shar3_1': 'Shared interests'\n",
    "# })\n",
    "# patt_f.drop(['gender'],axis=1, inplace=True)\n",
    "# patt_f= patt_f.rename(index={0: 'No_match',1: 'Match'})\n",
    "# print(\"How women see their own attributes\")\n",
    "# patt_f"
   ]
  },
  {
   "cell_type": "markdown",
   "id": "50f9edb3",
   "metadata": {},
   "source": [
    "The same happens with women, they tend to evaluate themselves better than men, and those who find a partner evaluate themselves better than those who don't."
   ]
  },
  {
   "cell_type": "code",
   "execution_count": 82,
   "id": "b9277d51",
   "metadata": {},
   "outputs": [],
   "source": [
    "# diff = patt_f.diff().iloc[1]\n",
    "\n",
    "# # Create bar plot\n",
    "# plt.bar(diff.index, diff, color=['r' if x < 0 else 'b' for x in diff])\n",
    "\n",
    "# # Add labels and title\n",
    "# plt.xlabel('Attributes')\n",
    "# plt.ylabel('Difference')\n",
    "# plt.title('Difference in how Women who match / not match see their own attributes')\n",
    "\n",
    "# # Show plot\n",
    "# plt.show()"
   ]
  },
  {
   "cell_type": "markdown",
   "id": "216b20cd",
   "metadata": {},
   "source": [
    "In the case of women. they tend to rate themselves higher than they rate their potential mates, but women that match tend to rate themselves as less sincere, intelligent, and ambitious than those who don't."
   ]
  },
  {
   "cell_type": "code",
   "execution_count": 83,
   "id": "478f9623",
   "metadata": {},
   "outputs": [],
   "source": [
    "# esti_m = other_rate_your_idea.loc[other_rate_your_idea['gender'] == 1].groupby('match').mean()\n",
    "# esti_m = esti_m.rename(columns={'attr5_1': 'Attraction','sinc5_1': 'Sincerity',\n",
    "# 'intel5_1': 'Intelligence', 'fun5_1': 'Fun', 'amb5_1': 'Ambition'\n",
    "# })\n",
    "# esti_m.drop(['gender'],axis=1, inplace=True)\n",
    "# esti_m= esti_m.rename(index={0: 'No_match',1: 'Match'})\n",
    "# print(\"How men think women are seeing them\")\n",
    "# esti_m"
   ]
  },
  {
   "cell_type": "code",
   "execution_count": 84,
   "id": "4586244d",
   "metadata": {},
   "outputs": [],
   "source": [
    "# dfTWM = esti_m.sub(patt_m)\n",
    "# dfTWM"
   ]
  },
  {
   "cell_type": "markdown",
   "id": "85d83f12",
   "metadata": {},
   "source": [
    "We can see that they feel more ambicious than how they think that women see them, on the other attributes they tend think that other evaluated with a lower punctuation than how the see themselves."
   ]
  },
  {
   "cell_type": "code",
   "execution_count": 85,
   "id": "4932eafd",
   "metadata": {},
   "outputs": [],
   "source": [
    "# wsee=df_gender_f.drop(['Shared interests'],axis=1)\n",
    "# wsee.rename(index={'No match':'No_match'}, inplace=True)"
   ]
  },
  {
   "cell_type": "code",
   "execution_count": 86,
   "id": "8e9db922",
   "metadata": {},
   "outputs": [],
   "source": [
    "# dfWM = esti_m.sub(wsee)\n",
    "# print('Difference between how they see themselves and how women see them')\n",
    "# dfWM"
   ]
  },
  {
   "cell_type": "markdown",
   "id": "c9ad0a49",
   "metadata": {},
   "source": [
    "There is a big difference between how they see themselves and how women see them in both groups."
   ]
  },
  {
   "cell_type": "code",
   "execution_count": 87,
   "id": "ed6adb8e",
   "metadata": {},
   "outputs": [],
   "source": [
    "# Conculouisn"
   ]
  },
  {
   "cell_type": "markdown",
   "id": "a2b71ba0",
   "metadata": {},
   "source": [
    "# 3. Machine Learning\n",
    "\n",
    "## 3.1 Logistic Regression"
   ]
  },
  {
   "cell_type": "code",
   "execution_count": 88,
   "id": "4df41ab8",
   "metadata": {},
   "outputs": [],
   "source": [
    "# X = final_data.drop(['match','dec_o','dec'], axis=1)\n",
    "# y = final_data['match']"
   ]
  },
  {
   "cell_type": "code",
   "execution_count": 89,
   "id": "076dc40d",
   "metadata": {},
   "outputs": [],
   "source": [
    "# # X_train, X_test, y_train, y_test = train_test_split(X,y, test_size=0.3, random_state=42,stratify=final_data.match)\n",
    "# # X_val, X_test, y_val, y_test = train_test_split(X_test,y_test, test_size=0.33, random_state=42,stratify=final_data.match)\n",
    "\n",
    "# X_train, X_test, y_train, y_test = train_test_split(X,y, test_size=0.3, random_state=42,stratify=y)\n",
    "# X_val, X_test, y_val, y_test = train_test_split(X_test,y_test, test_size=0.33, random_state=42,stratify=y_test)\n",
    "\n",
    "# #X_train, X_test, y_train, y_test = train_test_split(X,y, test_size=0.2, random_state=42,stratify=final_data.match)\n",
    "\n",
    "# logreg = LogisticRegression(random_state=42)\n",
    "\n",
    "# logreg.fit(X_train, y_train)\n",
    "\n",
    "# y_pred = logreg.predict(X_test)\n"
   ]
  },
  {
   "cell_type": "code",
   "execution_count": 90,
   "id": "e63625bd",
   "metadata": {
    "scrolled": true
   },
   "outputs": [],
   "source": [
    "# from sklearn.metrics import classification_report\n",
    "# print(classification_report(y_test, y_pred))"
   ]
  },
  {
   "cell_type": "code",
   "execution_count": 91,
   "id": "f48a18ab",
   "metadata": {},
   "outputs": [],
   "source": [
    "# from sklearn.metrics import confusion_matrix\n",
    "# print(confusion_matrix(y_test,y_pred))"
   ]
  },
  {
   "cell_type": "code",
   "execution_count": 92,
   "id": "087040f5",
   "metadata": {
    "scrolled": false
   },
   "outputs": [],
   "source": [
    "# print(y_test.value_counts())"
   ]
  },
  {
   "cell_type": "code",
   "execution_count": 93,
   "id": "df8e8c0d",
   "metadata": {},
   "outputs": [],
   "source": [
    "# from imblearn.over_sampling import SMOTE\n",
    "# smote = SMOTE(random_state=42)\n",
    "# X_train_resampled, y_train_resampled = smote.fit_resample(X_train, y_train)"
   ]
  },
  {
   "cell_type": "code",
   "execution_count": 94,
   "id": "53eb42e6",
   "metadata": {},
   "outputs": [],
   "source": [
    "# log_reg_2 = LogisticRegression(random_state = 42)\n",
    "# log_reg_2.fit(X_train_resampled, y_train_resampled)"
   ]
  },
  {
   "cell_type": "code",
   "execution_count": 95,
   "id": "1734e5e3",
   "metadata": {
    "scrolled": false
   },
   "outputs": [],
   "source": [
    "# pd.Series(y_train_resampled).value_counts().plot(kind='bar', title='Class distribution after appying SMOTE', xlabel='match')"
   ]
  },
  {
   "cell_type": "code",
   "execution_count": 96,
   "id": "9f1f5ed6",
   "metadata": {
    "scrolled": false
   },
   "outputs": [],
   "source": [
    "# y_pred_res = log_reg_2.predict(X_test)\n",
    "# print(classification_report(y_test, y_pred))\n"
   ]
  },
  {
   "cell_type": "code",
   "execution_count": 97,
   "id": "fc58c0ab",
   "metadata": {},
   "outputs": [],
   "source": [
    "# print(confusion_matrix(y_test,y_pred_res))"
   ]
  },
  {
   "cell_type": "code",
   "execution_count": 98,
   "id": "efd56029",
   "metadata": {},
   "outputs": [],
   "source": [
    "# log_reg_3 = LogisticRegression(random_state = 42)\n",
    "\n",
    "# param_grid = {'penalty':['l1', 'l2','None','elasticnet']}"
   ]
  },
  {
   "cell_type": "code",
   "execution_count": 99,
   "id": "57ecc031",
   "metadata": {},
   "outputs": [],
   "source": [
    "# from sklearn.model_selection import GridSearchCV\n",
    "\n",
    "\n",
    "# clf = GridSearchCV(log_reg_3, param_grid = param_grid, cv=5, verbose=True, n_jobs=-1)"
   ]
  },
  {
   "cell_type": "code",
   "execution_count": 100,
   "id": "65004f3a",
   "metadata": {},
   "outputs": [],
   "source": [
    "# best_clf = clf.fit(X_train_resampled, y_train_resampled)"
   ]
  },
  {
   "cell_type": "code",
   "execution_count": 101,
   "id": "b1215564",
   "metadata": {},
   "outputs": [],
   "source": [
    "# best_clf.best_estimator_"
   ]
  },
  {
   "cell_type": "code",
   "execution_count": 102,
   "id": "1712a259",
   "metadata": {
    "scrolled": true
   },
   "outputs": [],
   "source": [
    "# y_pred = best_clf.predict(X_test)\n",
    "# print(classification_report(y_test, y_pred))"
   ]
  },
  {
   "cell_type": "code",
   "execution_count": 103,
   "id": "235b9f15",
   "metadata": {
    "scrolled": false
   },
   "outputs": [],
   "source": [
    "# param_grid_2 = { 'solver':['lbfgs','newton-cg','liblinear','sag','sage']}\n",
    "\n",
    "# clf = GridSearchCV(log_reg_3, param_grid = param_grid_2, cv=5, verbose=True, n_jobs=-1)\n",
    "\n",
    "# best_clf = clf.fit(X_train_resampled, y_train_resampled)\n",
    "\n",
    "# best_clf.best_estimator_\n",
    "\n",
    "# y_pred = best_clf.predict(X_test)\n",
    "# print(classification_report(y_test, y_pred))"
   ]
  },
  {
   "cell_type": "code",
   "execution_count": 104,
   "id": "4e1f8a1c",
   "metadata": {},
   "outputs": [],
   "source": [
    "# param_grid_3 = {'max_iter': [100,1000,2500,5000]}\n",
    "\n",
    "# clf = GridSearchCV(log_reg_3, param_grid = param_grid_3, cv=5, verbose=True, n_jobs=-1)\n",
    "\n",
    "# best_clf = clf.fit(X_train_resampled, y_train_resampled)\n",
    "\n",
    "# best_clf.best_estimator_\n",
    "\n",
    "# y_pred = best_clf.predict(X_test)\n",
    "# print(classification_report(y_test, y_pred))"
   ]
  },
  {
   "cell_type": "markdown",
   "id": "17501ef2",
   "metadata": {},
   "source": [
    "## 3.2 Random Forest"
   ]
  },
  {
   "cell_type": "code",
   "execution_count": 105,
   "id": "00c2a7ee",
   "metadata": {},
   "outputs": [],
   "source": [
    "# !pip install imblearn"
   ]
  },
  {
   "cell_type": "markdown",
   "id": "8bc4053e",
   "metadata": {},
   "source": [
    "### Downloading & doing intial transformation."
   ]
  },
  {
   "cell_type": "code",
   "execution_count": 106,
   "id": "2353a6f2",
   "metadata": {},
   "outputs": [],
   "source": [
    "final_data=pd.read_csv(\"fdata.csv\")\n"
   ]
  },
  {
   "cell_type": "code",
   "execution_count": 107,
   "id": "b19ca4eb",
   "metadata": {},
   "outputs": [
    {
     "data": {
      "text/html": [
       "<div>\n",
       "<style scoped>\n",
       "    .dataframe tbody tr th:only-of-type {\n",
       "        vertical-align: middle;\n",
       "    }\n",
       "\n",
       "    .dataframe tbody tr th {\n",
       "        vertical-align: top;\n",
       "    }\n",
       "\n",
       "    .dataframe thead th {\n",
       "        text-align: right;\n",
       "    }\n",
       "</style>\n",
       "<table border=\"1\" class=\"dataframe\">\n",
       "  <thead>\n",
       "    <tr style=\"text-align: right;\">\n",
       "      <th></th>\n",
       "      <th>pf_o_att</th>\n",
       "      <th>pf_o_sin</th>\n",
       "      <th>pf_o_int</th>\n",
       "      <th>pf_o_fun</th>\n",
       "      <th>pf_o_amb</th>\n",
       "      <th>pf_o_sha</th>\n",
       "      <th>attr_o</th>\n",
       "      <th>sinc_o</th>\n",
       "      <th>intel_o</th>\n",
       "      <th>fun_o</th>\n",
       "      <th>...</th>\n",
       "      <th>age_o</th>\n",
       "      <th>int_corr</th>\n",
       "      <th>income</th>\n",
       "      <th>col0</th>\n",
       "      <th>col1</th>\n",
       "      <th>col2</th>\n",
       "      <th>col3</th>\n",
       "      <th>col4</th>\n",
       "      <th>age_dff</th>\n",
       "      <th>age_diff</th>\n",
       "    </tr>\n",
       "  </thead>\n",
       "  <tbody>\n",
       "    <tr>\n",
       "      <th>0</th>\n",
       "      <td>35.0</td>\n",
       "      <td>20.0</td>\n",
       "      <td>20.0</td>\n",
       "      <td>20.0</td>\n",
       "      <td>0.0</td>\n",
       "      <td>5.0</td>\n",
       "      <td>6.0</td>\n",
       "      <td>8.0</td>\n",
       "      <td>8.0</td>\n",
       "      <td>8.0</td>\n",
       "      <td>...</td>\n",
       "      <td>27.0</td>\n",
       "      <td>0.14</td>\n",
       "      <td>69487.0</td>\n",
       "      <td>0.2</td>\n",
       "      <td>0.2</td>\n",
       "      <td>0.2</td>\n",
       "      <td>0.2</td>\n",
       "      <td>0.2</td>\n",
       "      <td>-6.0</td>\n",
       "      <td>6.0</td>\n",
       "    </tr>\n",
       "  </tbody>\n",
       "</table>\n",
       "<p>1 rows × 94 columns</p>\n",
       "</div>"
      ],
      "text/plain": [
       "   pf_o_att  pf_o_sin  pf_o_int  pf_o_fun  pf_o_amb  pf_o_sha  attr_o  sinc_o  \\\n",
       "0      35.0      20.0      20.0      20.0       0.0       5.0     6.0     8.0   \n",
       "\n",
       "   intel_o  fun_o  ...  age_o  int_corr   income  col0  col1  col2  col3  \\\n",
       "0      8.0    8.0  ...   27.0      0.14  69487.0   0.2   0.2   0.2   0.2   \n",
       "\n",
       "   col4  age_dff  age_diff  \n",
       "0   0.2     -6.0       6.0  \n",
       "\n",
       "[1 rows x 94 columns]"
      ]
     },
     "execution_count": 107,
     "metadata": {},
     "output_type": "execute_result"
    }
   ],
   "source": [
    "final_data.drop(['dec_o','dec'], axis = 1)\n",
    "final_data.head(1)"
   ]
  },
  {
   "cell_type": "code",
   "execution_count": 108,
   "id": "f83af34b",
   "metadata": {},
   "outputs": [
    {
     "name": "stdout",
     "output_type": "stream",
     "text": [
      "93\n"
     ]
    }
   ],
   "source": [
    "X= final_data.drop('match', axis = 1)\n",
    "y = np.array(final_data['match'])\n",
    "feature_list = list(X.columns)\n",
    "\n",
    "X = np.array(X)\n",
    "#print(label[:6])\n",
    "#print(features[:1])\n",
    "print(len(feature_list))"
   ]
  },
  {
   "cell_type": "code",
   "execution_count": 109,
   "id": "1f6e4278",
   "metadata": {},
   "outputs": [],
   "source": [
    "from imblearn.over_sampling import SMOTE\n",
    "from sklearn.model_selection import train_test_split\n",
    "\n",
    "# Split the dataset into training, validation and test\n",
    "X_trainval, X_test, y_trainval, y_test = train_test_split(X, y, test_size=0.2, random_state=42)\n",
    "X_train, X_val, y_train, y_val = train_test_split(X_trainval, y_trainval, test_size=0.25, random_state=42)\n",
    "\n",
    "# instantiate SMOTE\n",
    "smote = SMOTE(random_state=42)\n",
    "\n",
    "# Apply SMOTE to the training set only\n",
    "X_train_r, y_train_r = smote.fit_resample(X_train, y_train)\n"
   ]
  },
  {
   "cell_type": "markdown",
   "id": "bdeaace0",
   "metadata": {},
   "source": [
    "### training & testing"
   ]
  },
  {
   "cell_type": "code",
   "execution_count": 110,
   "id": "87addbe1",
   "metadata": {},
   "outputs": [
    {
     "name": "stdout",
     "output_type": "stream",
     "text": [
      "Training data shape: (5864, 93) (5864,)\n",
      "Test data shape: (830, 93) (830,)\n",
      "Validation data shape: (1684, 93) (1684,)\n"
     ]
    }
   ],
   "source": [
    "X_train_r, X_test, y_train_r, y_test = train_test_split(X, y, test_size=0.3, random_state=42, stratify=y)\n",
    "X_val, X_test, y_val, y_test = train_test_split(X_test, y_test, test_size=0.33, random_state=42, stratify=y_test)\n",
    "\n",
    "print('Training data shape:', X_train_r.shape, y_train_r.shape)\n",
    "print('Test data shape:', X_test.shape, y_test.shape)\n",
    "print('Validation data shape:', X_val.shape, y_val.shape)\n"
   ]
  },
  {
   "cell_type": "code",
   "execution_count": 111,
   "id": "6c25d71e",
   "metadata": {},
   "outputs": [],
   "source": [
    "from sklearn.preprocessing import LabelBinarizer\n",
    "\n",
    "lb = LabelBinarizer()\n",
    "y_bin = lb.fit_transform(y_train)"
   ]
  },
  {
   "cell_type": "code",
   "execution_count": 112,
   "id": "aeb7c496",
   "metadata": {},
   "outputs": [],
   "source": [
    "# Importing the model\n",
    "from sklearn.ensemble import RandomForestRegressor\n",
    "# Instantiate model with 1000 decision trees\n",
    "rf = RandomForestRegressor(n_estimators = 1000, random_state = 42)\n",
    "# Train the model on training data\n",
    "rf.fit(X_train_r, y_train_r);"
   ]
  },
  {
   "cell_type": "code",
   "execution_count": 113,
   "id": "072a0cd2",
   "metadata": {},
   "outputs": [
    {
     "name": "stdout",
     "output_type": "stream",
     "text": [
      "Mean Absolute Error: 0.0\n"
     ]
    }
   ],
   "source": [
    "# Use the forest's predict method on the test data\n",
    "predictions = rf.predict(X_test)\n",
    "# Calculate the absolute errors\n",
    "errors = abs(predictions - y_test)\n",
    "# Print out the mean absolute error (mae)\n",
    "print('Mean Absolute Error:', round( np.mean(errors), 2))\n"
   ]
  },
  {
   "cell_type": "code",
   "execution_count": 114,
   "id": "bb3fef4b",
   "metadata": {},
   "outputs": [
    {
     "name": "stdout",
     "output_type": "stream",
     "text": [
      "Accuracy: 100.0 %.\n"
     ]
    }
   ],
   "source": [
    "# Calculate mean absolute percentage error (MAPE)\n",
    "mape = 100 * (errors / (y_test+1e-6))\n",
    "# Calculate and display accuracy\n",
    "accuracy = 100 - np.mean(mape)\n",
    "print('Accuracy:', round(accuracy, 2), '%.')"
   ]
  },
  {
   "cell_type": "code",
   "execution_count": 115,
   "id": "6630f94f",
   "metadata": {
    "scrolled": true
   },
   "outputs": [
    {
     "name": "stdout",
     "output_type": "stream",
     "text": [
      "Variable: dec_o                Importance: 0.65\n",
      "Variable: dec                  Importance: 0.35\n",
      "Variable: pf_o_att             Importance: 0.0\n",
      "Variable: pf_o_sin             Importance: 0.0\n",
      "Variable: pf_o_int             Importance: 0.0\n",
      "Variable: pf_o_fun             Importance: 0.0\n",
      "Variable: pf_o_amb             Importance: 0.0\n",
      "Variable: pf_o_sha             Importance: 0.0\n",
      "Variable: attr_o               Importance: 0.0\n",
      "Variable: sinc_o               Importance: 0.0\n",
      "Variable: intel_o              Importance: 0.0\n",
      "Variable: fun_o                Importance: 0.0\n",
      "Variable: amb_o                Importance: 0.0\n",
      "Variable: shar_o               Importance: 0.0\n",
      "Variable: like_o               Importance: 0.0\n",
      "Variable: prob_o               Importance: 0.0\n",
      "Variable: met_o                Importance: 0.0\n",
      "Variable: field_cd             Importance: 0.0\n",
      "Variable: imprace              Importance: 0.0\n",
      "Variable: imprelig             Importance: 0.0\n",
      "Variable: sports               Importance: 0.0\n",
      "Variable: tvsports             Importance: 0.0\n",
      "Variable: exercise             Importance: 0.0\n",
      "Variable: dining               Importance: 0.0\n",
      "Variable: museums              Importance: 0.0\n",
      "Variable: art                  Importance: 0.0\n",
      "Variable: hiking               Importance: 0.0\n",
      "Variable: gaming               Importance: 0.0\n",
      "Variable: clubbing             Importance: 0.0\n",
      "Variable: reading              Importance: 0.0\n",
      "Variable: tv                   Importance: 0.0\n",
      "Variable: theater              Importance: 0.0\n",
      "Variable: movies               Importance: 0.0\n",
      "Variable: concerts             Importance: 0.0\n",
      "Variable: music                Importance: 0.0\n",
      "Variable: shopping             Importance: 0.0\n",
      "Variable: yoga                 Importance: 0.0\n",
      "Variable: attr1_1              Importance: 0.0\n",
      "Variable: sinc1_1              Importance: 0.0\n",
      "Variable: intel1_1             Importance: 0.0\n",
      "Variable: fun1_1               Importance: 0.0\n",
      "Variable: amb1_1               Importance: 0.0\n",
      "Variable: shar1_1              Importance: 0.0\n",
      "Variable: attr2_1              Importance: 0.0\n",
      "Variable: sinc2_1              Importance: 0.0\n",
      "Variable: intel2_1             Importance: 0.0\n",
      "Variable: fun2_1               Importance: 0.0\n",
      "Variable: amb2_1               Importance: 0.0\n",
      "Variable: shar2_1              Importance: 0.0\n",
      "Variable: attr3_1              Importance: 0.0\n",
      "Variable: sinc3_1              Importance: 0.0\n",
      "Variable: fun3_1               Importance: 0.0\n",
      "Variable: intel3_1             Importance: 0.0\n",
      "Variable: amb3_1               Importance: 0.0\n",
      "Variable: attr5_1              Importance: 0.0\n",
      "Variable: sinc5_1              Importance: 0.0\n",
      "Variable: intel5_1             Importance: 0.0\n",
      "Variable: fun5_1               Importance: 0.0\n",
      "Variable: amb5_1               Importance: 0.0\n",
      "Variable: attr                 Importance: 0.0\n",
      "Variable: sinc                 Importance: 0.0\n",
      "Variable: intel                Importance: 0.0\n",
      "Variable: fun                  Importance: 0.0\n",
      "Variable: amb                  Importance: 0.0\n",
      "Variable: shar                 Importance: 0.0\n",
      "Variable: like                 Importance: 0.0\n",
      "Variable: prob                 Importance: 0.0\n",
      "Variable: race_o               Importance: 0.0\n",
      "Variable: race                 Importance: 0.0\n",
      "Variable: goal                 Importance: 0.0\n",
      "Variable: date                 Importance: 0.0\n",
      "Variable: go_out               Importance: 0.0\n",
      "Variable: exphappy             Importance: 0.0\n",
      "Variable: met                  Importance: 0.0\n",
      "Variable: match_es             Importance: 0.0\n",
      "Variable: satis_2              Importance: 0.0\n",
      "Variable: length               Importance: 0.0\n",
      "Variable: numdat_2             Importance: 0.0\n",
      "Variable: gender               Importance: 0.0\n",
      "Variable: condtn               Importance: 0.0\n",
      "Variable: wave                 Importance: 0.0\n",
      "Variable: samerace             Importance: 0.0\n",
      "Variable: age                  Importance: 0.0\n",
      "Variable: age_o                Importance: 0.0\n",
      "Variable: int_corr             Importance: 0.0\n",
      "Variable: income               Importance: 0.0\n",
      "Variable: col0                 Importance: 0.0\n",
      "Variable: col1                 Importance: 0.0\n",
      "Variable: col2                 Importance: 0.0\n",
      "Variable: col3                 Importance: 0.0\n",
      "Variable: col4                 Importance: 0.0\n",
      "Variable: age_dff              Importance: 0.0\n",
      "Variable: age_diff             Importance: 0.0\n"
     ]
    }
   ],
   "source": [
    "# Get numerical feature importances\n",
    "importances = list(rf.feature_importances_)\n",
    "# List of tuples with variable and importance\n",
    "feature_importances = [(X, round(importance, 2)) for X, importance in zip(feature_list, importances)]\n",
    "# Sort the feature importances by most important first\n",
    "feature_importances = sorted(feature_importances, key = lambda x: x[1], reverse = True)\n",
    "# Print out the feature and importances \n",
    "[print('Variable: {:20} Importance: {}'.format(*pair)) for pair in feature_importances];"
   ]
  },
  {
   "cell_type": "code",
   "execution_count": 116,
   "id": "aee79e5c",
   "metadata": {
    "scrolled": true
   },
   "outputs": [
    {
     "data": {
      "image/png": "[encoded data removed]",
      "text/plain": [
       "<Figure size 2500x1000 with 1 Axes>"
      ]
     },
     "metadata": {},
     "output_type": "display_data"
    }
   ],
   "source": [
    "import matplotlib.pyplot as plt\n",
    "import numpy as np\n",
    "\n",
    "# List of features sorted from most to least important\n",
    "sorted_importances = [importance[1] for importance in feature_importances]\n",
    "sorted_features = [importance[0] for importance in feature_importances]\n",
    "\n",
    "# Cumulative importances\n",
    "cumulative_importances = np.cumsum(sorted_importances)\n",
    "\n",
    "# Set the figure size and create the plot\n",
    "fig, ax = plt.subplots(figsize=(25,10))\n",
    "ax.plot(cumulative_importances, 'g-')\n",
    "\n",
    "# Draw line at 95% of importance retained\n",
    "ax.axhline(y=0.95, color='r', linestyle='--')\n",
    "\n",
    "# Format x ticks and labels\n",
    "ax.set_xticks(range(len(sorted_features)))\n",
    "ax.set_xticklabels(sorted_features, rotation='vertical', fontsize=10)\n",
    "\n",
    "# Axis labels and title\n",
    "ax.set_xlabel('Variable', fontsize=12)\n",
    "ax.set_ylabel('Cumulative Importance', fontsize=12)\n",
    "ax.set_title('Cumulative Importances', fontsize=14)\n",
    "\n",
    "# Show the plot\n",
    "plt.show()\n"
   ]
  },
  {
   "cell_type": "code",
   "execution_count": 117,
   "id": "9b0db765",
   "metadata": {},
   "outputs": [
    {
     "name": "stdout",
     "output_type": "stream",
     "text": [
      "Mean Absolute Error: 0.2\n"
     ]
    }
   ],
   "source": [
    "# New random forest with only the important variables\n",
    "rf_most_important = RandomForestRegressor(n_estimators= 1000,\n",
    "random_state=42)\n",
    "# Extract the two most important features\n",
    "important_indices = [feature_list.index('samerace'),\n",
    "feature_list.index('dec_o')]\n",
    "train_important = X_train_r[:, important_indices]\n",
    "test_important = X_test[:, important_indices]\n",
    "# Train the random forest\n",
    "rf_most_important.fit(train_important, y_train_r)\n",
    "# Make predictions and determine the error\n",
    "predictions = rf_most_important.predict(test_important)\n",
    "\n",
    "# Calculate the absolute errors\n",
    "errors = abs(predictions - y_test)\n",
    "# Print out the mean absolute error (mae)\n",
    "print('Mean Absolute Error:', round( np.mean(errors), 2))\n",
    "\n"
   ]
  },
  {
   "cell_type": "markdown",
   "id": "3203aee8",
   "metadata": {},
   "source": [
    "### Trying to plot a tree"
   ]
  },
  {
   "cell_type": "code",
   "execution_count": 118,
   "id": "8973b47e",
   "metadata": {},
   "outputs": [],
   "source": [
    "#!pip install graphviz"
   ]
  },
  {
   "cell_type": "code",
   "execution_count": null,
   "id": "82486ac6",
   "metadata": {},
   "outputs": [],
   "source": []
  },
  {
   "cell_type": "code",
   "execution_count": 119,
   "id": "815bb6b1",
   "metadata": {},
   "outputs": [],
   "source": [
    "from sklearn.tree import export_graphviz\n",
    "\n",
    "# Pull out one tree from the forest\n",
    "tree = rf.estimators_[5]\n",
    "# Import tools needed for visualization\n",
    "export_graphviz(tree, out_file='tree.dot', \n",
    "feature_names=feature_list)"
   ]
  },
  {
   "cell_type": "code",
   "execution_count": 120,
   "id": "99fc3e6c",
   "metadata": {},
   "outputs": [
    {
     "ename": "FileNotFoundError",
     "evalue": "[WinError 2] \"dot\" not found in path.",
     "output_type": "error",
     "traceback": [
      "\u001b[1;31m---------------------------------------------------------------------------\u001b[0m",
      "\u001b[1;31mFileNotFoundError\u001b[0m                         Traceback (most recent call last)",
      "\u001b[1;32m~\\anaconda3\\lib\\site-packages\\pydot.py\u001b[0m in \u001b[0;36mcreate\u001b[1;34m(self, prog, format, encoding)\u001b[0m\n\u001b[0;32m   1922\u001b[0m         \u001b[1;32mtry\u001b[0m\u001b[1;33m:\u001b[0m\u001b[1;33m\u001b[0m\u001b[1;33m\u001b[0m\u001b[0m\n\u001b[1;32m-> 1923\u001b[1;33m             stdout_data, stderr_data, process = call_graphviz(\n\u001b[0m\u001b[0;32m   1924\u001b[0m                 \u001b[0mprogram\u001b[0m\u001b[1;33m=\u001b[0m\u001b[0mprog\u001b[0m\u001b[1;33m,\u001b[0m\u001b[1;33m\u001b[0m\u001b[1;33m\u001b[0m\u001b[0m\n",
      "\u001b[1;32m~\\anaconda3\\lib\\site-packages\\pydot.py\u001b[0m in \u001b[0;36mcall_graphviz\u001b[1;34m(program, arguments, working_dir, **kwargs)\u001b[0m\n\u001b[0;32m    131\u001b[0m \u001b[1;33m\u001b[0m\u001b[0m\n\u001b[1;32m--> 132\u001b[1;33m     process = subprocess.Popen(\n\u001b[0m\u001b[0;32m    133\u001b[0m         \u001b[0mprogram_with_args\u001b[0m\u001b[1;33m,\u001b[0m\u001b[1;33m\u001b[0m\u001b[1;33m\u001b[0m\u001b[0m\n",
      "\u001b[1;32m~\\anaconda3\\lib\\subprocess.py\u001b[0m in \u001b[0;36m__init__\u001b[1;34m(self, args, bufsize, executable, stdin, stdout, stderr, preexec_fn, close_fds, shell, cwd, env, universal_newlines, startupinfo, creationflags, restore_signals, start_new_session, pass_fds, user, group, extra_groups, encoding, errors, text, umask)\u001b[0m\n\u001b[0;32m    950\u001b[0m \u001b[1;33m\u001b[0m\u001b[0m\n\u001b[1;32m--> 951\u001b[1;33m             self._execute_child(args, executable, preexec_fn, close_fds,\n\u001b[0m\u001b[0;32m    952\u001b[0m                                 \u001b[0mpass_fds\u001b[0m\u001b[1;33m,\u001b[0m \u001b[0mcwd\u001b[0m\u001b[1;33m,\u001b[0m \u001b[0menv\u001b[0m\u001b[1;33m,\u001b[0m\u001b[1;33m\u001b[0m\u001b[1;33m\u001b[0m\u001b[0m\n",
      "\u001b[1;32m~\\anaconda3\\lib\\subprocess.py\u001b[0m in \u001b[0;36m_execute_child\u001b[1;34m(self, args, executable, preexec_fn, close_fds, pass_fds, cwd, env, startupinfo, creationflags, shell, p2cread, p2cwrite, c2pread, c2pwrite, errread, errwrite, unused_restore_signals, unused_gid, unused_gids, unused_uid, unused_umask, unused_start_new_session)\u001b[0m\n\u001b[0;32m   1419\u001b[0m             \u001b[1;32mtry\u001b[0m\u001b[1;33m:\u001b[0m\u001b[1;33m\u001b[0m\u001b[1;33m\u001b[0m\u001b[0m\n\u001b[1;32m-> 1420\u001b[1;33m                 hp, ht, pid, tid = _winapi.CreateProcess(executable, args,\n\u001b[0m\u001b[0;32m   1421\u001b[0m                                          \u001b[1;31m# no special security\u001b[0m\u001b[1;33m\u001b[0m\u001b[1;33m\u001b[0m\u001b[0m\n",
      "\u001b[1;31mFileNotFoundError\u001b[0m: [WinError 2] El sistema no puede encontrar el archivo especificado",
      "\nDuring handling of the above exception, another exception occurred:\n",
      "\u001b[1;31mFileNotFoundError\u001b[0m                         Traceback (most recent call last)",
      "\u001b[1;32m~\\AppData\\Local\\Temp\\ipykernel_10108\\1149433785.py\u001b[0m in \u001b[0;36m<module>\u001b[1;34m\u001b[0m\n\u001b[0;32m      9\u001b[0m feature_names=feature_list, rounded=True, precision=1)\n\u001b[0;32m     10\u001b[0m \u001b[1;33m(\u001b[0m\u001b[0mgraph\u001b[0m\u001b[1;33m,\u001b[0m\u001b[1;33m)\u001b[0m \u001b[1;33m=\u001b[0m \u001b[0mpydot\u001b[0m\u001b[1;33m.\u001b[0m\u001b[0mgraph_from_dot_file\u001b[0m\u001b[1;33m(\u001b[0m\u001b[1;34m'small_tree.dot'\u001b[0m\u001b[1;33m)\u001b[0m\u001b[1;33m\u001b[0m\u001b[1;33m\u001b[0m\u001b[0m\n\u001b[1;32m---> 11\u001b[1;33m \u001b[0mgraph\u001b[0m\u001b[1;33m.\u001b[0m\u001b[0mwrite_png\u001b[0m\u001b[1;33m(\u001b[0m\u001b[1;34m'small_tree.png'\u001b[0m\u001b[1;33m)\u001b[0m\u001b[1;33m\u001b[0m\u001b[1;33m\u001b[0m\u001b[0m\n\u001b[0m",
      "\u001b[1;32m~\\anaconda3\\lib\\site-packages\\pydot.py\u001b[0m in \u001b[0;36mnew_method\u001b[1;34m(path, f, prog, encoding)\u001b[0m\n\u001b[0;32m   1741\u001b[0m                     encoding=None):\n\u001b[0;32m   1742\u001b[0m                 \u001b[1;34m\"\"\"Refer to docstring of method `write.`\"\"\"\u001b[0m\u001b[1;33m\u001b[0m\u001b[1;33m\u001b[0m\u001b[0m\n\u001b[1;32m-> 1743\u001b[1;33m                 self.write(\n\u001b[0m\u001b[0;32m   1744\u001b[0m                     \u001b[0mpath\u001b[0m\u001b[1;33m,\u001b[0m \u001b[0mformat\u001b[0m\u001b[1;33m=\u001b[0m\u001b[0mf\u001b[0m\u001b[1;33m,\u001b[0m \u001b[0mprog\u001b[0m\u001b[1;33m=\u001b[0m\u001b[0mprog\u001b[0m\u001b[1;33m,\u001b[0m\u001b[1;33m\u001b[0m\u001b[1;33m\u001b[0m\u001b[0m\n\u001b[0;32m   1745\u001b[0m                     encoding=encoding)\n",
      "\u001b[1;32m~\\anaconda3\\lib\\site-packages\\pydot.py\u001b[0m in \u001b[0;36mwrite\u001b[1;34m(self, path, prog, format, encoding)\u001b[0m\n\u001b[0;32m   1826\u001b[0m                 \u001b[0mf\u001b[0m\u001b[1;33m.\u001b[0m\u001b[0mwrite\u001b[0m\u001b[1;33m(\u001b[0m\u001b[0ms\u001b[0m\u001b[1;33m)\u001b[0m\u001b[1;33m\u001b[0m\u001b[1;33m\u001b[0m\u001b[0m\n\u001b[0;32m   1827\u001b[0m         \u001b[1;32melse\u001b[0m\u001b[1;33m:\u001b[0m\u001b[1;33m\u001b[0m\u001b[1;33m\u001b[0m\u001b[0m\n\u001b[1;32m-> 1828\u001b[1;33m             \u001b[0ms\u001b[0m \u001b[1;33m=\u001b[0m \u001b[0mself\u001b[0m\u001b[1;33m.\u001b[0m\u001b[0mcreate\u001b[0m\u001b[1;33m(\u001b[0m\u001b[0mprog\u001b[0m\u001b[1;33m,\u001b[0m \u001b[0mformat\u001b[0m\u001b[1;33m,\u001b[0m \u001b[0mencoding\u001b[0m\u001b[1;33m=\u001b[0m\u001b[0mencoding\u001b[0m\u001b[1;33m)\u001b[0m\u001b[1;33m\u001b[0m\u001b[1;33m\u001b[0m\u001b[0m\n\u001b[0m\u001b[0;32m   1829\u001b[0m             \u001b[1;32mwith\u001b[0m \u001b[0mio\u001b[0m\u001b[1;33m.\u001b[0m\u001b[0mopen\u001b[0m\u001b[1;33m(\u001b[0m\u001b[0mpath\u001b[0m\u001b[1;33m,\u001b[0m \u001b[0mmode\u001b[0m\u001b[1;33m=\u001b[0m\u001b[1;34m'wb'\u001b[0m\u001b[1;33m)\u001b[0m \u001b[1;32mas\u001b[0m \u001b[0mf\u001b[0m\u001b[1;33m:\u001b[0m\u001b[1;33m\u001b[0m\u001b[1;33m\u001b[0m\u001b[0m\n\u001b[0;32m   1830\u001b[0m                 \u001b[0mf\u001b[0m\u001b[1;33m.\u001b[0m\u001b[0mwrite\u001b[0m\u001b[1;33m(\u001b[0m\u001b[0ms\u001b[0m\u001b[1;33m)\u001b[0m\u001b[1;33m\u001b[0m\u001b[1;33m\u001b[0m\u001b[0m\n",
      "\u001b[1;32m~\\anaconda3\\lib\\site-packages\\pydot.py\u001b[0m in \u001b[0;36mcreate\u001b[1;34m(self, prog, format, encoding)\u001b[0m\n\u001b[0;32m   1931\u001b[0m                 args[1] = '\"{prog}\" not found in path.'.format(\n\u001b[0;32m   1932\u001b[0m                     prog=prog)\n\u001b[1;32m-> 1933\u001b[1;33m                 \u001b[1;32mraise\u001b[0m \u001b[0mOSError\u001b[0m\u001b[1;33m(\u001b[0m\u001b[1;33m*\u001b[0m\u001b[0margs\u001b[0m\u001b[1;33m)\u001b[0m\u001b[1;33m\u001b[0m\u001b[1;33m\u001b[0m\u001b[0m\n\u001b[0m\u001b[0;32m   1934\u001b[0m             \u001b[1;32melse\u001b[0m\u001b[1;33m:\u001b[0m\u001b[1;33m\u001b[0m\u001b[1;33m\u001b[0m\u001b[0m\n\u001b[0;32m   1935\u001b[0m                 \u001b[1;32mraise\u001b[0m\u001b[1;33m\u001b[0m\u001b[1;33m\u001b[0m\u001b[0m\n",
      "\u001b[1;31mFileNotFoundError\u001b[0m: [WinError 2] \"dot\" not found in path."
     ]
    }
   ],
   "source": [
    "# Import tools needed for visualization\n",
    "from sklearn.tree import export_graphviz\n",
    "\n",
    "import pydot\n",
    "rf_small = RandomForestRegressor(n_estimators=10, max_depth=3)\n",
    "rf_small.fit(X_train_r, y_train_r)\n",
    "tree_small = rf_small.estimators_[5]\n",
    "export_graphviz(tree_small, out_file='small_tree.dot',\n",
    "feature_names=feature_list, rounded=True, precision=1)\n",
    "(graph,) = pydot.graph_from_dot_file('small_tree.dot')\n",
    "graph.write_png('small_tree.png')"
   ]
  },
  {
   "cell_type": "markdown",
   "id": "7fc77825",
   "metadata": {},
   "source": [
    "## 3.2 Neurol Networks"
   ]
  },
  {
   "cell_type": "code",
   "execution_count": null,
   "id": "88990769",
   "metadata": {},
   "outputs": [],
   "source": []
  }
 ],
 "metadata": {
  "hide_input": false,
  "kernelspec": {
   "display_name": "Python 3 (ipykernel)",
   "language": "python",
   "name": "python3"
  },
  "language_info": {
   "codemirror_mode": {
    "name": "ipython",
    "version": 3
   },
   "file_extension": ".py",
   "mimetype": "text/x-python",
   "name": "python",
   "nbconvert_exporter": "python",
   "pygments_lexer": "ipython3",
   "version": "3.9.13"
  }
 },
 "nbformat": 4,
 "nbformat_minor": 5
}
